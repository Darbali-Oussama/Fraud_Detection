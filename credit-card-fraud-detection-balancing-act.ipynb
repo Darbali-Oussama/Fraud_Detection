{
 "cells": [
  {
   "cell_type": "code",
   "execution_count": 1,
   "id": "229045bc",
   "metadata": {
    "_cell_guid": "b1076dfc-b9ad-4769-8c92-a6c4dae69d19",
    "_uuid": "8f2839f25d086af736a60e9eeb907d3b93b6e0e5",
    "execution": {
     "iopub.execute_input": "2023-09-04T01:02:11.617599Z",
     "iopub.status.busy": "2023-09-04T01:02:11.617193Z",
     "iopub.status.idle": "2023-09-04T01:02:11.635061Z",
     "shell.execute_reply": "2023-09-04T01:02:11.633596Z"
    },
    "papermill": {
     "duration": 0.048603,
     "end_time": "2023-09-04T01:02:11.638371",
     "exception": false,
     "start_time": "2023-09-04T01:02:11.589768",
     "status": "completed"
    },
    "tags": []
   },
   "outputs": [
    {
     "name": "stdout",
     "output_type": "stream",
     "text": [
      "/kaggle/input/creditcardfraud/creditcard.csv\n"
     ]
    }
   ],
   "source": [
    "# Input data files are available in the read-only \"../input/\" directory\n",
    "# For example, running this (by clicking run or pressing Shift+Enter) will list all files under the input directory\n",
    "\n",
    "import os\n",
    "for dirname, _, filenames in os.walk('/kaggle/input'):\n",
    "    for filename in filenames:\n",
    "        print(os.path.join(dirname, filename))\n",
    "\n",
    "# You can write up to 20GB to the current directory (/kaggle/working/) that gets preserved as output when you create a version using \"Save & Run All\" \n",
    "# You can also write temporary files to /kaggle/temp/, but they won't be saved outside of the current session"
   ]
  },
  {
   "cell_type": "code",
   "execution_count": 2,
   "id": "9b5a928d",
   "metadata": {
    "execution": {
     "iopub.execute_input": "2023-09-04T01:02:11.689100Z",
     "iopub.status.busy": "2023-09-04T01:02:11.688735Z",
     "iopub.status.idle": "2023-09-04T01:02:13.693203Z",
     "shell.execute_reply": "2023-09-04T01:02:13.691687Z"
    },
    "papermill": {
     "duration": 2.031999,
     "end_time": "2023-09-04T01:02:13.695676",
     "exception": false,
     "start_time": "2023-09-04T01:02:11.663677",
     "status": "completed"
    },
    "tags": []
   },
   "outputs": [
    {
     "name": "stderr",
     "output_type": "stream",
     "text": [
      "/opt/conda/lib/python3.10/site-packages/scipy/__init__.py:146: UserWarning: A NumPy version >=1.16.5 and <1.23.0 is required for this version of SciPy (detected version 1.23.5\n",
      "  warnings.warn(f\"A NumPy version >={np_minversion} and <{np_maxversion}\"\n"
     ]
    }
   ],
   "source": [
    "import numpy as np # linear algebra\n",
    "import pandas as pd # data processing, CSV file I/O (e.g. pd.read_csv)\n",
    "from sklearn.model_selection import train_test_split\n",
    "from sklearn.linear_model import LogisticRegression\n",
    "from sklearn.preprocessing import StandardScaler\n",
    "from sklearn import metrics\n",
    "from sklearn.metrics import classification_report\n",
    "import seaborn as sns\n",
    "import matplotlib.pyplot as plt"
   ]
  },
  {
   "cell_type": "code",
   "execution_count": 3,
   "id": "39f719ec",
   "metadata": {
    "execution": {
     "iopub.execute_input": "2023-09-04T01:02:13.750573Z",
     "iopub.status.busy": "2023-09-04T01:02:13.750192Z",
     "iopub.status.idle": "2023-09-04T01:02:19.005676Z",
     "shell.execute_reply": "2023-09-04T01:02:19.004384Z"
    },
    "papermill": {
     "duration": 5.28523,
     "end_time": "2023-09-04T01:02:19.007885",
     "exception": false,
     "start_time": "2023-09-04T01:02:13.722655",
     "status": "completed"
    },
    "tags": []
   },
   "outputs": [
    {
     "data": {
      "text/html": [
       "<div>\n",
       "<style scoped>\n",
       "    .dataframe tbody tr th:only-of-type {\n",
       "        vertical-align: middle;\n",
       "    }\n",
       "\n",
       "    .dataframe tbody tr th {\n",
       "        vertical-align: top;\n",
       "    }\n",
       "\n",
       "    .dataframe thead th {\n",
       "        text-align: right;\n",
       "    }\n",
       "</style>\n",
       "<table border=\"1\" class=\"dataframe\">\n",
       "  <thead>\n",
       "    <tr style=\"text-align: right;\">\n",
       "      <th></th>\n",
       "      <th>Time</th>\n",
       "      <th>V1</th>\n",
       "      <th>V2</th>\n",
       "      <th>V3</th>\n",
       "      <th>V4</th>\n",
       "      <th>V5</th>\n",
       "      <th>V6</th>\n",
       "      <th>V7</th>\n",
       "      <th>V8</th>\n",
       "      <th>V9</th>\n",
       "      <th>...</th>\n",
       "      <th>V21</th>\n",
       "      <th>V22</th>\n",
       "      <th>V23</th>\n",
       "      <th>V24</th>\n",
       "      <th>V25</th>\n",
       "      <th>V26</th>\n",
       "      <th>V27</th>\n",
       "      <th>V28</th>\n",
       "      <th>Amount</th>\n",
       "      <th>Class</th>\n",
       "    </tr>\n",
       "  </thead>\n",
       "  <tbody>\n",
       "    <tr>\n",
       "      <th>0</th>\n",
       "      <td>0.0</td>\n",
       "      <td>-1.359807</td>\n",
       "      <td>-0.072781</td>\n",
       "      <td>2.536347</td>\n",
       "      <td>1.378155</td>\n",
       "      <td>-0.338321</td>\n",
       "      <td>0.462388</td>\n",
       "      <td>0.239599</td>\n",
       "      <td>0.098698</td>\n",
       "      <td>0.363787</td>\n",
       "      <td>...</td>\n",
       "      <td>-0.018307</td>\n",
       "      <td>0.277838</td>\n",
       "      <td>-0.110474</td>\n",
       "      <td>0.066928</td>\n",
       "      <td>0.128539</td>\n",
       "      <td>-0.189115</td>\n",
       "      <td>0.133558</td>\n",
       "      <td>-0.021053</td>\n",
       "      <td>149.62</td>\n",
       "      <td>0</td>\n",
       "    </tr>\n",
       "    <tr>\n",
       "      <th>1</th>\n",
       "      <td>0.0</td>\n",
       "      <td>1.191857</td>\n",
       "      <td>0.266151</td>\n",
       "      <td>0.166480</td>\n",
       "      <td>0.448154</td>\n",
       "      <td>0.060018</td>\n",
       "      <td>-0.082361</td>\n",
       "      <td>-0.078803</td>\n",
       "      <td>0.085102</td>\n",
       "      <td>-0.255425</td>\n",
       "      <td>...</td>\n",
       "      <td>-0.225775</td>\n",
       "      <td>-0.638672</td>\n",
       "      <td>0.101288</td>\n",
       "      <td>-0.339846</td>\n",
       "      <td>0.167170</td>\n",
       "      <td>0.125895</td>\n",
       "      <td>-0.008983</td>\n",
       "      <td>0.014724</td>\n",
       "      <td>2.69</td>\n",
       "      <td>0</td>\n",
       "    </tr>\n",
       "    <tr>\n",
       "      <th>2</th>\n",
       "      <td>1.0</td>\n",
       "      <td>-1.358354</td>\n",
       "      <td>-1.340163</td>\n",
       "      <td>1.773209</td>\n",
       "      <td>0.379780</td>\n",
       "      <td>-0.503198</td>\n",
       "      <td>1.800499</td>\n",
       "      <td>0.791461</td>\n",
       "      <td>0.247676</td>\n",
       "      <td>-1.514654</td>\n",
       "      <td>...</td>\n",
       "      <td>0.247998</td>\n",
       "      <td>0.771679</td>\n",
       "      <td>0.909412</td>\n",
       "      <td>-0.689281</td>\n",
       "      <td>-0.327642</td>\n",
       "      <td>-0.139097</td>\n",
       "      <td>-0.055353</td>\n",
       "      <td>-0.059752</td>\n",
       "      <td>378.66</td>\n",
       "      <td>0</td>\n",
       "    </tr>\n",
       "    <tr>\n",
       "      <th>3</th>\n",
       "      <td>1.0</td>\n",
       "      <td>-0.966272</td>\n",
       "      <td>-0.185226</td>\n",
       "      <td>1.792993</td>\n",
       "      <td>-0.863291</td>\n",
       "      <td>-0.010309</td>\n",
       "      <td>1.247203</td>\n",
       "      <td>0.237609</td>\n",
       "      <td>0.377436</td>\n",
       "      <td>-1.387024</td>\n",
       "      <td>...</td>\n",
       "      <td>-0.108300</td>\n",
       "      <td>0.005274</td>\n",
       "      <td>-0.190321</td>\n",
       "      <td>-1.175575</td>\n",
       "      <td>0.647376</td>\n",
       "      <td>-0.221929</td>\n",
       "      <td>0.062723</td>\n",
       "      <td>0.061458</td>\n",
       "      <td>123.50</td>\n",
       "      <td>0</td>\n",
       "    </tr>\n",
       "    <tr>\n",
       "      <th>4</th>\n",
       "      <td>2.0</td>\n",
       "      <td>-1.158233</td>\n",
       "      <td>0.877737</td>\n",
       "      <td>1.548718</td>\n",
       "      <td>0.403034</td>\n",
       "      <td>-0.407193</td>\n",
       "      <td>0.095921</td>\n",
       "      <td>0.592941</td>\n",
       "      <td>-0.270533</td>\n",
       "      <td>0.817739</td>\n",
       "      <td>...</td>\n",
       "      <td>-0.009431</td>\n",
       "      <td>0.798278</td>\n",
       "      <td>-0.137458</td>\n",
       "      <td>0.141267</td>\n",
       "      <td>-0.206010</td>\n",
       "      <td>0.502292</td>\n",
       "      <td>0.219422</td>\n",
       "      <td>0.215153</td>\n",
       "      <td>69.99</td>\n",
       "      <td>0</td>\n",
       "    </tr>\n",
       "  </tbody>\n",
       "</table>\n",
       "<p>5 rows × 31 columns</p>\n",
       "</div>"
      ],
      "text/plain": [
       "   Time        V1        V2        V3        V4        V5        V6        V7  \\\n",
       "0   0.0 -1.359807 -0.072781  2.536347  1.378155 -0.338321  0.462388  0.239599   \n",
       "1   0.0  1.191857  0.266151  0.166480  0.448154  0.060018 -0.082361 -0.078803   \n",
       "2   1.0 -1.358354 -1.340163  1.773209  0.379780 -0.503198  1.800499  0.791461   \n",
       "3   1.0 -0.966272 -0.185226  1.792993 -0.863291 -0.010309  1.247203  0.237609   \n",
       "4   2.0 -1.158233  0.877737  1.548718  0.403034 -0.407193  0.095921  0.592941   \n",
       "\n",
       "         V8        V9  ...       V21       V22       V23       V24       V25  \\\n",
       "0  0.098698  0.363787  ... -0.018307  0.277838 -0.110474  0.066928  0.128539   \n",
       "1  0.085102 -0.255425  ... -0.225775 -0.638672  0.101288 -0.339846  0.167170   \n",
       "2  0.247676 -1.514654  ...  0.247998  0.771679  0.909412 -0.689281 -0.327642   \n",
       "3  0.377436 -1.387024  ... -0.108300  0.005274 -0.190321 -1.175575  0.647376   \n",
       "4 -0.270533  0.817739  ... -0.009431  0.798278 -0.137458  0.141267 -0.206010   \n",
       "\n",
       "        V26       V27       V28  Amount  Class  \n",
       "0 -0.189115  0.133558 -0.021053  149.62      0  \n",
       "1  0.125895 -0.008983  0.014724    2.69      0  \n",
       "2 -0.139097 -0.055353 -0.059752  378.66      0  \n",
       "3 -0.221929  0.062723  0.061458  123.50      0  \n",
       "4  0.502292  0.219422  0.215153   69.99      0  \n",
       "\n",
       "[5 rows x 31 columns]"
      ]
     },
     "execution_count": 3,
     "metadata": {},
     "output_type": "execute_result"
    }
   ],
   "source": [
    "# Reading the dataset\n",
    "df = pd.read_csv(\"/kaggle/input/creditcardfraud/creditcard.csv\")\n",
    "df.head()"
   ]
  },
  {
   "cell_type": "code",
   "execution_count": 4,
   "id": "a3ec3eef",
   "metadata": {
    "execution": {
     "iopub.execute_input": "2023-09-04T01:02:19.059663Z",
     "iopub.status.busy": "2023-09-04T01:02:19.058989Z",
     "iopub.status.idle": "2023-09-04T01:02:19.067413Z",
     "shell.execute_reply": "2023-09-04T01:02:19.066148Z"
    },
    "papermill": {
     "duration": 0.037679,
     "end_time": "2023-09-04T01:02:19.069794",
     "exception": false,
     "start_time": "2023-09-04T01:02:19.032115",
     "status": "completed"
    },
    "tags": []
   },
   "outputs": [
    {
     "data": {
      "text/plain": [
       "(284807, 31)"
      ]
     },
     "execution_count": 4,
     "metadata": {},
     "output_type": "execute_result"
    }
   ],
   "source": [
    "df.shape"
   ]
  },
  {
   "cell_type": "code",
   "execution_count": 5,
   "id": "654c325f",
   "metadata": {
    "execution": {
     "iopub.execute_input": "2023-09-04T01:02:19.121528Z",
     "iopub.status.busy": "2023-09-04T01:02:19.121128Z",
     "iopub.status.idle": "2023-09-04T01:02:19.530118Z",
     "shell.execute_reply": "2023-09-04T01:02:19.528821Z"
    },
    "papermill": {
     "duration": 0.436671,
     "end_time": "2023-09-04T01:02:19.532193",
     "exception": false,
     "start_time": "2023-09-04T01:02:19.095522",
     "status": "completed"
    },
    "tags": []
   },
   "outputs": [
    {
     "data": {
      "text/html": [
       "<div>\n",
       "<style scoped>\n",
       "    .dataframe tbody tr th:only-of-type {\n",
       "        vertical-align: middle;\n",
       "    }\n",
       "\n",
       "    .dataframe tbody tr th {\n",
       "        vertical-align: top;\n",
       "    }\n",
       "\n",
       "    .dataframe thead th {\n",
       "        text-align: right;\n",
       "    }\n",
       "</style>\n",
       "<table border=\"1\" class=\"dataframe\">\n",
       "  <thead>\n",
       "    <tr style=\"text-align: right;\">\n",
       "      <th></th>\n",
       "      <th>Time</th>\n",
       "      <th>V1</th>\n",
       "      <th>V2</th>\n",
       "      <th>V3</th>\n",
       "      <th>V4</th>\n",
       "      <th>V5</th>\n",
       "      <th>V6</th>\n",
       "      <th>V7</th>\n",
       "      <th>V8</th>\n",
       "      <th>V9</th>\n",
       "      <th>...</th>\n",
       "      <th>V21</th>\n",
       "      <th>V22</th>\n",
       "      <th>V23</th>\n",
       "      <th>V24</th>\n",
       "      <th>V25</th>\n",
       "      <th>V26</th>\n",
       "      <th>V27</th>\n",
       "      <th>V28</th>\n",
       "      <th>Amount</th>\n",
       "      <th>Class</th>\n",
       "    </tr>\n",
       "  </thead>\n",
       "  <tbody>\n",
       "    <tr>\n",
       "      <th>count</th>\n",
       "      <td>284807.000000</td>\n",
       "      <td>2.848070e+05</td>\n",
       "      <td>2.848070e+05</td>\n",
       "      <td>2.848070e+05</td>\n",
       "      <td>2.848070e+05</td>\n",
       "      <td>2.848070e+05</td>\n",
       "      <td>2.848070e+05</td>\n",
       "      <td>2.848070e+05</td>\n",
       "      <td>2.848070e+05</td>\n",
       "      <td>2.848070e+05</td>\n",
       "      <td>...</td>\n",
       "      <td>2.848070e+05</td>\n",
       "      <td>2.848070e+05</td>\n",
       "      <td>2.848070e+05</td>\n",
       "      <td>2.848070e+05</td>\n",
       "      <td>2.848070e+05</td>\n",
       "      <td>2.848070e+05</td>\n",
       "      <td>2.848070e+05</td>\n",
       "      <td>2.848070e+05</td>\n",
       "      <td>284807.000000</td>\n",
       "      <td>284807.000000</td>\n",
       "    </tr>\n",
       "    <tr>\n",
       "      <th>mean</th>\n",
       "      <td>94813.859575</td>\n",
       "      <td>1.168375e-15</td>\n",
       "      <td>3.416908e-16</td>\n",
       "      <td>-1.379537e-15</td>\n",
       "      <td>2.074095e-15</td>\n",
       "      <td>9.604066e-16</td>\n",
       "      <td>1.487313e-15</td>\n",
       "      <td>-5.556467e-16</td>\n",
       "      <td>1.213481e-16</td>\n",
       "      <td>-2.406331e-15</td>\n",
       "      <td>...</td>\n",
       "      <td>1.654067e-16</td>\n",
       "      <td>-3.568593e-16</td>\n",
       "      <td>2.578648e-16</td>\n",
       "      <td>4.473266e-15</td>\n",
       "      <td>5.340915e-16</td>\n",
       "      <td>1.683437e-15</td>\n",
       "      <td>-3.660091e-16</td>\n",
       "      <td>-1.227390e-16</td>\n",
       "      <td>88.349619</td>\n",
       "      <td>0.001727</td>\n",
       "    </tr>\n",
       "    <tr>\n",
       "      <th>std</th>\n",
       "      <td>47488.145955</td>\n",
       "      <td>1.958696e+00</td>\n",
       "      <td>1.651309e+00</td>\n",
       "      <td>1.516255e+00</td>\n",
       "      <td>1.415869e+00</td>\n",
       "      <td>1.380247e+00</td>\n",
       "      <td>1.332271e+00</td>\n",
       "      <td>1.237094e+00</td>\n",
       "      <td>1.194353e+00</td>\n",
       "      <td>1.098632e+00</td>\n",
       "      <td>...</td>\n",
       "      <td>7.345240e-01</td>\n",
       "      <td>7.257016e-01</td>\n",
       "      <td>6.244603e-01</td>\n",
       "      <td>6.056471e-01</td>\n",
       "      <td>5.212781e-01</td>\n",
       "      <td>4.822270e-01</td>\n",
       "      <td>4.036325e-01</td>\n",
       "      <td>3.300833e-01</td>\n",
       "      <td>250.120109</td>\n",
       "      <td>0.041527</td>\n",
       "    </tr>\n",
       "    <tr>\n",
       "      <th>min</th>\n",
       "      <td>0.000000</td>\n",
       "      <td>-5.640751e+01</td>\n",
       "      <td>-7.271573e+01</td>\n",
       "      <td>-4.832559e+01</td>\n",
       "      <td>-5.683171e+00</td>\n",
       "      <td>-1.137433e+02</td>\n",
       "      <td>-2.616051e+01</td>\n",
       "      <td>-4.355724e+01</td>\n",
       "      <td>-7.321672e+01</td>\n",
       "      <td>-1.343407e+01</td>\n",
       "      <td>...</td>\n",
       "      <td>-3.483038e+01</td>\n",
       "      <td>-1.093314e+01</td>\n",
       "      <td>-4.480774e+01</td>\n",
       "      <td>-2.836627e+00</td>\n",
       "      <td>-1.029540e+01</td>\n",
       "      <td>-2.604551e+00</td>\n",
       "      <td>-2.256568e+01</td>\n",
       "      <td>-1.543008e+01</td>\n",
       "      <td>0.000000</td>\n",
       "      <td>0.000000</td>\n",
       "    </tr>\n",
       "    <tr>\n",
       "      <th>25%</th>\n",
       "      <td>54201.500000</td>\n",
       "      <td>-9.203734e-01</td>\n",
       "      <td>-5.985499e-01</td>\n",
       "      <td>-8.903648e-01</td>\n",
       "      <td>-8.486401e-01</td>\n",
       "      <td>-6.915971e-01</td>\n",
       "      <td>-7.682956e-01</td>\n",
       "      <td>-5.540759e-01</td>\n",
       "      <td>-2.086297e-01</td>\n",
       "      <td>-6.430976e-01</td>\n",
       "      <td>...</td>\n",
       "      <td>-2.283949e-01</td>\n",
       "      <td>-5.423504e-01</td>\n",
       "      <td>-1.618463e-01</td>\n",
       "      <td>-3.545861e-01</td>\n",
       "      <td>-3.171451e-01</td>\n",
       "      <td>-3.269839e-01</td>\n",
       "      <td>-7.083953e-02</td>\n",
       "      <td>-5.295979e-02</td>\n",
       "      <td>5.600000</td>\n",
       "      <td>0.000000</td>\n",
       "    </tr>\n",
       "    <tr>\n",
       "      <th>50%</th>\n",
       "      <td>84692.000000</td>\n",
       "      <td>1.810880e-02</td>\n",
       "      <td>6.548556e-02</td>\n",
       "      <td>1.798463e-01</td>\n",
       "      <td>-1.984653e-02</td>\n",
       "      <td>-5.433583e-02</td>\n",
       "      <td>-2.741871e-01</td>\n",
       "      <td>4.010308e-02</td>\n",
       "      <td>2.235804e-02</td>\n",
       "      <td>-5.142873e-02</td>\n",
       "      <td>...</td>\n",
       "      <td>-2.945017e-02</td>\n",
       "      <td>6.781943e-03</td>\n",
       "      <td>-1.119293e-02</td>\n",
       "      <td>4.097606e-02</td>\n",
       "      <td>1.659350e-02</td>\n",
       "      <td>-5.213911e-02</td>\n",
       "      <td>1.342146e-03</td>\n",
       "      <td>1.124383e-02</td>\n",
       "      <td>22.000000</td>\n",
       "      <td>0.000000</td>\n",
       "    </tr>\n",
       "    <tr>\n",
       "      <th>75%</th>\n",
       "      <td>139320.500000</td>\n",
       "      <td>1.315642e+00</td>\n",
       "      <td>8.037239e-01</td>\n",
       "      <td>1.027196e+00</td>\n",
       "      <td>7.433413e-01</td>\n",
       "      <td>6.119264e-01</td>\n",
       "      <td>3.985649e-01</td>\n",
       "      <td>5.704361e-01</td>\n",
       "      <td>3.273459e-01</td>\n",
       "      <td>5.971390e-01</td>\n",
       "      <td>...</td>\n",
       "      <td>1.863772e-01</td>\n",
       "      <td>5.285536e-01</td>\n",
       "      <td>1.476421e-01</td>\n",
       "      <td>4.395266e-01</td>\n",
       "      <td>3.507156e-01</td>\n",
       "      <td>2.409522e-01</td>\n",
       "      <td>9.104512e-02</td>\n",
       "      <td>7.827995e-02</td>\n",
       "      <td>77.165000</td>\n",
       "      <td>0.000000</td>\n",
       "    </tr>\n",
       "    <tr>\n",
       "      <th>max</th>\n",
       "      <td>172792.000000</td>\n",
       "      <td>2.454930e+00</td>\n",
       "      <td>2.205773e+01</td>\n",
       "      <td>9.382558e+00</td>\n",
       "      <td>1.687534e+01</td>\n",
       "      <td>3.480167e+01</td>\n",
       "      <td>7.330163e+01</td>\n",
       "      <td>1.205895e+02</td>\n",
       "      <td>2.000721e+01</td>\n",
       "      <td>1.559499e+01</td>\n",
       "      <td>...</td>\n",
       "      <td>2.720284e+01</td>\n",
       "      <td>1.050309e+01</td>\n",
       "      <td>2.252841e+01</td>\n",
       "      <td>4.584549e+00</td>\n",
       "      <td>7.519589e+00</td>\n",
       "      <td>3.517346e+00</td>\n",
       "      <td>3.161220e+01</td>\n",
       "      <td>3.384781e+01</td>\n",
       "      <td>25691.160000</td>\n",
       "      <td>1.000000</td>\n",
       "    </tr>\n",
       "  </tbody>\n",
       "</table>\n",
       "<p>8 rows × 31 columns</p>\n",
       "</div>"
      ],
      "text/plain": [
       "                Time            V1            V2            V3            V4  \\\n",
       "count  284807.000000  2.848070e+05  2.848070e+05  2.848070e+05  2.848070e+05   \n",
       "mean    94813.859575  1.168375e-15  3.416908e-16 -1.379537e-15  2.074095e-15   \n",
       "std     47488.145955  1.958696e+00  1.651309e+00  1.516255e+00  1.415869e+00   \n",
       "min         0.000000 -5.640751e+01 -7.271573e+01 -4.832559e+01 -5.683171e+00   \n",
       "25%     54201.500000 -9.203734e-01 -5.985499e-01 -8.903648e-01 -8.486401e-01   \n",
       "50%     84692.000000  1.810880e-02  6.548556e-02  1.798463e-01 -1.984653e-02   \n",
       "75%    139320.500000  1.315642e+00  8.037239e-01  1.027196e+00  7.433413e-01   \n",
       "max    172792.000000  2.454930e+00  2.205773e+01  9.382558e+00  1.687534e+01   \n",
       "\n",
       "                 V5            V6            V7            V8            V9  \\\n",
       "count  2.848070e+05  2.848070e+05  2.848070e+05  2.848070e+05  2.848070e+05   \n",
       "mean   9.604066e-16  1.487313e-15 -5.556467e-16  1.213481e-16 -2.406331e-15   \n",
       "std    1.380247e+00  1.332271e+00  1.237094e+00  1.194353e+00  1.098632e+00   \n",
       "min   -1.137433e+02 -2.616051e+01 -4.355724e+01 -7.321672e+01 -1.343407e+01   \n",
       "25%   -6.915971e-01 -7.682956e-01 -5.540759e-01 -2.086297e-01 -6.430976e-01   \n",
       "50%   -5.433583e-02 -2.741871e-01  4.010308e-02  2.235804e-02 -5.142873e-02   \n",
       "75%    6.119264e-01  3.985649e-01  5.704361e-01  3.273459e-01  5.971390e-01   \n",
       "max    3.480167e+01  7.330163e+01  1.205895e+02  2.000721e+01  1.559499e+01   \n",
       "\n",
       "       ...           V21           V22           V23           V24  \\\n",
       "count  ...  2.848070e+05  2.848070e+05  2.848070e+05  2.848070e+05   \n",
       "mean   ...  1.654067e-16 -3.568593e-16  2.578648e-16  4.473266e-15   \n",
       "std    ...  7.345240e-01  7.257016e-01  6.244603e-01  6.056471e-01   \n",
       "min    ... -3.483038e+01 -1.093314e+01 -4.480774e+01 -2.836627e+00   \n",
       "25%    ... -2.283949e-01 -5.423504e-01 -1.618463e-01 -3.545861e-01   \n",
       "50%    ... -2.945017e-02  6.781943e-03 -1.119293e-02  4.097606e-02   \n",
       "75%    ...  1.863772e-01  5.285536e-01  1.476421e-01  4.395266e-01   \n",
       "max    ...  2.720284e+01  1.050309e+01  2.252841e+01  4.584549e+00   \n",
       "\n",
       "                V25           V26           V27           V28         Amount  \\\n",
       "count  2.848070e+05  2.848070e+05  2.848070e+05  2.848070e+05  284807.000000   \n",
       "mean   5.340915e-16  1.683437e-15 -3.660091e-16 -1.227390e-16      88.349619   \n",
       "std    5.212781e-01  4.822270e-01  4.036325e-01  3.300833e-01     250.120109   \n",
       "min   -1.029540e+01 -2.604551e+00 -2.256568e+01 -1.543008e+01       0.000000   \n",
       "25%   -3.171451e-01 -3.269839e-01 -7.083953e-02 -5.295979e-02       5.600000   \n",
       "50%    1.659350e-02 -5.213911e-02  1.342146e-03  1.124383e-02      22.000000   \n",
       "75%    3.507156e-01  2.409522e-01  9.104512e-02  7.827995e-02      77.165000   \n",
       "max    7.519589e+00  3.517346e+00  3.161220e+01  3.384781e+01   25691.160000   \n",
       "\n",
       "               Class  \n",
       "count  284807.000000  \n",
       "mean        0.001727  \n",
       "std         0.041527  \n",
       "min         0.000000  \n",
       "25%         0.000000  \n",
       "50%         0.000000  \n",
       "75%         0.000000  \n",
       "max         1.000000  \n",
       "\n",
       "[8 rows x 31 columns]"
      ]
     },
     "execution_count": 5,
     "metadata": {},
     "output_type": "execute_result"
    }
   ],
   "source": [
    "df.describe()"
   ]
  },
  {
   "cell_type": "code",
   "execution_count": 6,
   "id": "aa2f16a6",
   "metadata": {
    "execution": {
     "iopub.execute_input": "2023-09-04T01:02:19.587565Z",
     "iopub.status.busy": "2023-09-04T01:02:19.586637Z",
     "iopub.status.idle": "2023-09-04T01:02:19.601808Z",
     "shell.execute_reply": "2023-09-04T01:02:19.600792Z"
    },
    "papermill": {
     "duration": 0.044307,
     "end_time": "2023-09-04T01:02:19.604383",
     "exception": false,
     "start_time": "2023-09-04T01:02:19.560076",
     "status": "completed"
    },
    "tags": []
   },
   "outputs": [
    {
     "data": {
      "text/plain": [
       "Time      0\n",
       "V1        0\n",
       "V2        0\n",
       "V3        0\n",
       "V4        0\n",
       "V5        0\n",
       "V6        0\n",
       "V7        0\n",
       "V8        0\n",
       "V9        0\n",
       "V10       0\n",
       "V11       0\n",
       "V12       0\n",
       "V13       0\n",
       "V14       0\n",
       "V15       0\n",
       "V16       0\n",
       "V17       0\n",
       "V18       0\n",
       "V19       0\n",
       "V20       0\n",
       "V21       0\n",
       "V22       0\n",
       "V23       0\n",
       "V24       0\n",
       "V25       0\n",
       "V26       0\n",
       "V27       0\n",
       "V28       0\n",
       "Amount    0\n",
       "Class     0\n",
       "dtype: int64"
      ]
     },
     "execution_count": 6,
     "metadata": {},
     "output_type": "execute_result"
    }
   ],
   "source": [
    "df.isnull().sum()"
   ]
  },
  {
   "cell_type": "code",
   "execution_count": 7,
   "id": "825dd7d9",
   "metadata": {
    "execution": {
     "iopub.execute_input": "2023-09-04T01:02:19.656547Z",
     "iopub.status.busy": "2023-09-04T01:02:19.655981Z",
     "iopub.status.idle": "2023-09-04T01:02:19.689204Z",
     "shell.execute_reply": "2023-09-04T01:02:19.687686Z"
    },
    "papermill": {
     "duration": 0.060517,
     "end_time": "2023-09-04T01:02:19.691200",
     "exception": false,
     "start_time": "2023-09-04T01:02:19.630683",
     "status": "completed"
    },
    "tags": []
   },
   "outputs": [
    {
     "name": "stdout",
     "output_type": "stream",
     "text": [
      "<class 'pandas.core.frame.DataFrame'>\n",
      "RangeIndex: 284807 entries, 0 to 284806\n",
      "Data columns (total 31 columns):\n",
      " #   Column  Non-Null Count   Dtype  \n",
      "---  ------  --------------   -----  \n",
      " 0   Time    284807 non-null  float64\n",
      " 1   V1      284807 non-null  float64\n",
      " 2   V2      284807 non-null  float64\n",
      " 3   V3      284807 non-null  float64\n",
      " 4   V4      284807 non-null  float64\n",
      " 5   V5      284807 non-null  float64\n",
      " 6   V6      284807 non-null  float64\n",
      " 7   V7      284807 non-null  float64\n",
      " 8   V8      284807 non-null  float64\n",
      " 9   V9      284807 non-null  float64\n",
      " 10  V10     284807 non-null  float64\n",
      " 11  V11     284807 non-null  float64\n",
      " 12  V12     284807 non-null  float64\n",
      " 13  V13     284807 non-null  float64\n",
      " 14  V14     284807 non-null  float64\n",
      " 15  V15     284807 non-null  float64\n",
      " 16  V16     284807 non-null  float64\n",
      " 17  V17     284807 non-null  float64\n",
      " 18  V18     284807 non-null  float64\n",
      " 19  V19     284807 non-null  float64\n",
      " 20  V20     284807 non-null  float64\n",
      " 21  V21     284807 non-null  float64\n",
      " 22  V22     284807 non-null  float64\n",
      " 23  V23     284807 non-null  float64\n",
      " 24  V24     284807 non-null  float64\n",
      " 25  V25     284807 non-null  float64\n",
      " 26  V26     284807 non-null  float64\n",
      " 27  V27     284807 non-null  float64\n",
      " 28  V28     284807 non-null  float64\n",
      " 29  Amount  284807 non-null  float64\n",
      " 30  Class   284807 non-null  int64  \n",
      "dtypes: float64(30), int64(1)\n",
      "memory usage: 67.4 MB\n"
     ]
    }
   ],
   "source": [
    "df.info()"
   ]
  },
  {
   "cell_type": "code",
   "execution_count": 8,
   "id": "f2f1164d",
   "metadata": {
    "execution": {
     "iopub.execute_input": "2023-09-04T01:02:19.744108Z",
     "iopub.status.busy": "2023-09-04T01:02:19.743421Z",
     "iopub.status.idle": "2023-09-04T01:02:19.753321Z",
     "shell.execute_reply": "2023-09-04T01:02:19.752024Z"
    },
    "papermill": {
     "duration": 0.039485,
     "end_time": "2023-09-04T01:02:19.755356",
     "exception": false,
     "start_time": "2023-09-04T01:02:19.715871",
     "status": "completed"
    },
    "tags": []
   },
   "outputs": [
    {
     "data": {
      "text/plain": [
       "0    284315\n",
       "1       492\n",
       "Name: Class, dtype: int64"
      ]
     },
     "execution_count": 8,
     "metadata": {},
     "output_type": "execute_result"
    }
   ],
   "source": [
    "df['Class'].value_counts()"
   ]
  },
  {
   "cell_type": "code",
   "execution_count": 9,
   "id": "65785980",
   "metadata": {
    "execution": {
     "iopub.execute_input": "2023-09-04T01:02:19.807316Z",
     "iopub.status.busy": "2023-09-04T01:02:19.806978Z",
     "iopub.status.idle": "2023-09-04T01:02:19.833469Z",
     "shell.execute_reply": "2023-09-04T01:02:19.832136Z"
    },
    "papermill": {
     "duration": 0.056008,
     "end_time": "2023-09-04T01:02:19.835996",
     "exception": false,
     "start_time": "2023-09-04T01:02:19.779988",
     "status": "completed"
    },
    "tags": []
   },
   "outputs": [
    {
     "name": "stdout",
     "output_type": "stream",
     "text": [
      "The number of fraud transactions are 492\n",
      "The number of safe transactions are 284315\n"
     ]
    }
   ],
   "source": [
    "fraud = df[df['Class'] == 1]\n",
    "safe = df[df['Class'] == 0]\n",
    "print('The number of fraud transactions are {}'.format(fraud.shape[0]))\n",
    "print('The number of safe transactions are {}'.format(safe.shape[0]))"
   ]
  },
  {
   "cell_type": "code",
   "execution_count": 10,
   "id": "238dbe3b",
   "metadata": {
    "execution": {
     "iopub.execute_input": "2023-09-04T01:02:19.887043Z",
     "iopub.status.busy": "2023-09-04T01:02:19.886689Z",
     "iopub.status.idle": "2023-09-04T01:02:20.047563Z",
     "shell.execute_reply": "2023-09-04T01:02:20.046525Z"
    },
    "papermill": {
     "duration": 0.18902,
     "end_time": "2023-09-04T01:02:20.049718",
     "exception": false,
     "start_time": "2023-09-04T01:02:19.860698",
     "status": "completed"
    },
    "tags": []
   },
   "outputs": [
    {
     "data": {
      "image/png": "[encoded data removed]",
      "text/plain": [
       "<Figure size 500x500 with 1 Axes>"
      ]
     },
     "metadata": {},
     "output_type": "display_data"
    }
   ],
   "source": [
    "labels = df['Class'].value_counts().index\n",
    "sizes = df['Class'].value_counts().values\n",
    "\n",
    "plt.figure(figsize=(5, 5))\n",
    "plt.pie(sizes, labels=labels, autopct='%1.1f%%', startangle=140)\n",
    "plt.axis('equal') \n",
    "plt.title('Class Distribution')\n",
    "plt.show()\n"
   ]
  },
  {
   "cell_type": "code",
   "execution_count": 11,
   "id": "f9e8ad36",
   "metadata": {
    "execution": {
     "iopub.execute_input": "2023-09-04T01:02:20.115014Z",
     "iopub.status.busy": "2023-09-04T01:02:20.114321Z",
     "iopub.status.idle": "2023-09-04T01:02:21.070325Z",
     "shell.execute_reply": "2023-09-04T01:02:21.068331Z"
    },
    "papermill": {
     "duration": 0.991984,
     "end_time": "2023-09-04T01:02:21.073210",
     "exception": false,
     "start_time": "2023-09-04T01:02:20.081226",
     "status": "completed"
    },
    "tags": []
   },
   "outputs": [
    {
     "data": {
      "text/plain": [
       "Text(0.5, 1.0, 'Correlation Matrix')"
      ]
     },
     "execution_count": 11,
     "metadata": {},
     "output_type": "execute_result"
    },
    {
     "data": {
      "image/png": "[encoded data removed]",
      "text/plain": [
       "<Figure size 1400x700 with 2 Axes>"
      ]
     },
     "metadata": {},
     "output_type": "display_data"
    }
   ],
   "source": [
    "#Searching for any correlations\n",
    "fig,ax=plt.subplots(1,1,figsize=(14,7))\n",
    "sns.heatmap(df.corr(), square=True, center=0.5, yticklabels=False).set_title('Correlation Matrix')"
   ]
  },
  {
   "cell_type": "markdown",
   "id": "ba683ff6",
   "metadata": {
    "papermill": {
     "duration": 0.025129,
     "end_time": "2023-09-04T01:02:21.127769",
     "exception": false,
     "start_time": "2023-09-04T01:02:21.102640",
     "status": "completed"
    },
    "tags": []
   },
   "source": [
    "No highly dependent or independent for target variable"
   ]
  },
  {
   "cell_type": "markdown",
   "id": "a48cb058",
   "metadata": {
    "papermill": {
     "duration": 0.025571,
     "end_time": "2023-09-04T01:02:21.180927",
     "exception": false,
     "start_time": "2023-09-04T01:02:21.155356",
     "status": "completed"
    },
    "tags": []
   },
   "source": [
    "# The objective is to find out why balancing is necessary in an unbalanced dataset.\n"
   ]
  },
  {
   "cell_type": "markdown",
   "id": "d47aa40e",
   "metadata": {
    "papermill": {
     "duration": 0.026397,
     "end_time": "2023-09-04T01:02:21.233113",
     "exception": false,
     "start_time": "2023-09-04T01:02:21.206716",
     "status": "completed"
    },
    "tags": []
   },
   "source": [
    "# Let's not balance and see the results."
   ]
  },
  {
   "cell_type": "markdown",
   "id": "d41ac498",
   "metadata": {
    "papermill": {
     "duration": 0.024892,
     "end_time": "2023-09-04T01:02:21.283309",
     "exception": false,
     "start_time": "2023-09-04T01:02:21.258417",
     "status": "completed"
    },
    "tags": []
   },
   "source": [
    "**1. Split the training and test dataset.**"
   ]
  },
  {
   "cell_type": "code",
   "execution_count": 12,
   "id": "5d1ef0de",
   "metadata": {
    "execution": {
     "iopub.execute_input": "2023-09-04T01:02:21.337869Z",
     "iopub.status.busy": "2023-09-04T01:02:21.337195Z",
     "iopub.status.idle": "2023-09-04T01:02:21.431510Z",
     "shell.execute_reply": "2023-09-04T01:02:21.430040Z"
    },
    "papermill": {
     "duration": 0.124358,
     "end_time": "2023-09-04T01:02:21.433866",
     "exception": false,
     "start_time": "2023-09-04T01:02:21.309508",
     "status": "completed"
    },
    "tags": []
   },
   "outputs": [],
   "source": [
    "inputs = df.drop(\"Class\", axis=\"columns\")\n",
    "targets = df.Class\n",
    "x_train, x_test, y_train, y_test = train_test_split( inputs, targets, test_size=0.2, random_state=10)"
   ]
  },
  {
   "cell_type": "code",
   "execution_count": 13,
   "id": "dba51dbb",
   "metadata": {
    "execution": {
     "iopub.execute_input": "2023-09-04T01:02:21.491207Z",
     "iopub.status.busy": "2023-09-04T01:02:21.490854Z",
     "iopub.status.idle": "2023-09-04T01:02:21.501850Z",
     "shell.execute_reply": "2023-09-04T01:02:21.500218Z"
    },
    "papermill": {
     "duration": 0.042569,
     "end_time": "2023-09-04T01:02:21.504170",
     "exception": false,
     "start_time": "2023-09-04T01:02:21.461601",
     "status": "completed"
    },
    "tags": []
   },
   "outputs": [
    {
     "name": "stdout",
     "output_type": "stream",
     "text": [
      "y test value counts:\n",
      " 0    56868\n",
      "1       94\n",
      "Name: Class, dtype: int64 \n",
      "\n",
      "\n",
      "y train value counts:\n",
      " 0    227447\n",
      "1       398\n",
      "Name: Class, dtype: int64\n"
     ]
    }
   ],
   "source": [
    "print(\"y test value counts:\\n\" ,y_test.value_counts(),\"\\n\\n\")\n",
    "print(\"y train value counts:\\n\" ,y_train.value_counts())"
   ]
  },
  {
   "cell_type": "markdown",
   "id": "1e278dd9",
   "metadata": {
    "papermill": {
     "duration": 0.0258,
     "end_time": "2023-09-04T01:02:21.556540",
     "exception": false,
     "start_time": "2023-09-04T01:02:21.530740",
     "status": "completed"
    },
    "tags": []
   },
   "source": [
    "**2. Fit the model**"
   ]
  },
  {
   "cell_type": "code",
   "execution_count": 14,
   "id": "8073f059",
   "metadata": {
    "execution": {
     "iopub.execute_input": "2023-09-04T01:02:21.609500Z",
     "iopub.status.busy": "2023-09-04T01:02:21.608941Z",
     "iopub.status.idle": "2023-09-04T01:02:27.920340Z",
     "shell.execute_reply": "2023-09-04T01:02:27.919664Z"
    },
    "papermill": {
     "duration": 6.340433,
     "end_time": "2023-09-04T01:02:27.922210",
     "exception": false,
     "start_time": "2023-09-04T01:02:21.581777",
     "status": "completed"
    },
    "tags": []
   },
   "outputs": [
    {
     "name": "stdout",
     "output_type": "stream",
     "text": [
      "              precision    recall  f1-score   support\n",
      "\n",
      "           0       1.00      1.00      1.00     56868\n",
      "           1       0.85      0.66      0.74        94\n",
      "\n",
      "    accuracy                           1.00     56962\n",
      "   macro avg       0.92      0.83      0.87     56962\n",
      "weighted avg       1.00      1.00      1.00     56962\n",
      "\n",
      "0.9992451107756047\n"
     ]
    }
   ],
   "source": [
    "lg=LogisticRegression(max_iter = 10000)\n",
    "lg.fit(x_train,y_train)\n",
    "y_predicted = lg.predict(x_test)\n",
    "accuracy = lg.score(x_test, y_test)\n",
    "\n",
    "print(classification_report(y_test,y_predicted))\n",
    "print(accuracy)"
   ]
  },
  {
   "cell_type": "markdown",
   "id": "803c06f7",
   "metadata": {
    "papermill": {
     "duration": 0.027106,
     "end_time": "2023-09-04T01:02:27.982954",
     "exception": false,
     "start_time": "2023-09-04T01:02:27.955848",
     "status": "completed"
    },
    "tags": []
   },
   "source": [
    "We got 99.9% accuracy without doing any balancing. Why is it then necessary to balance ? That will be answered by a confusion matrix."
   ]
  },
  {
   "cell_type": "markdown",
   "id": "27b35794",
   "metadata": {
    "papermill": {
     "duration": 0.025161,
     "end_time": "2023-09-04T01:02:28.034173",
     "exception": false,
     "start_time": "2023-09-04T01:02:28.009012",
     "status": "completed"
    },
    "tags": []
   },
   "source": [
    "# confusion matrix"
   ]
  },
  {
   "cell_type": "markdown",
   "id": "b60ef8e3",
   "metadata": {
    "papermill": {
     "duration": 0.026193,
     "end_time": "2023-09-04T01:02:28.088416",
     "exception": false,
     "start_time": "2023-09-04T01:02:28.062223",
     "status": "completed"
    },
    "tags": []
   },
   "source": [
    "The Confusion Matrix is a table used to describe the performance of a classification model's true values on test data. It contains 4 different combinations of estimated and actual values."
   ]
  },
  {
   "cell_type": "markdown",
   "id": "10545c9e",
   "metadata": {
    "papermill": {
     "duration": 0.02659,
     "end_time": "2023-09-04T01:02:28.140951",
     "exception": false,
     "start_time": "2023-09-04T01:02:28.114361",
     "status": "completed"
    },
    "tags": []
   },
   "source": [
    "Terminology and derivations from a confusion matrix:\n",
    "\n",
    "* true positive (TP): The predicted value by the model matches the actual value (The actual value was positive, and the machine learning model predicted a positive value)\n",
    "\n",
    "* true negative (TN): The predicted value by the model matches the actual value (The actual value was negative, and the machine learning model predicted a negative value)\n",
    "* false positive (FP): The machine learning model made a false prediction (The actual value was negative, but the machine learning model predicted a positive value)\n",
    "* false negative (FN): The machine learning model made a false prediction (The actual value was positive, but the machine learning model predicted a negative value)"
   ]
  },
  {
   "cell_type": "markdown",
   "id": "41ace2b8",
   "metadata": {
    "papermill": {
     "duration": 0.026554,
     "end_time": "2023-09-04T01:02:28.195042",
     "exception": false,
     "start_time": "2023-09-04T01:02:28.168488",
     "status": "completed"
    },
    "tags": []
   },
   "source": [
    "|                      | Predicted Positive |  Predicted Negative |\n",
    "|:--------------------:|:------------------:|:------------------:|\n",
    "|    Actual Positive   |   True Positive    |  False Negative    |\n",
    "|    Actual Negative   |   False Positive   |   True Negative    |"
   ]
  },
  {
   "cell_type": "code",
   "execution_count": 15,
   "id": "7da1df7e",
   "metadata": {
    "execution": {
     "iopub.execute_input": "2023-09-04T01:02:28.253089Z",
     "iopub.status.busy": "2023-09-04T01:02:28.252501Z",
     "iopub.status.idle": "2023-09-04T01:02:28.460274Z",
     "shell.execute_reply": "2023-09-04T01:02:28.458456Z"
    },
    "papermill": {
     "duration": 0.241282,
     "end_time": "2023-09-04T01:02:28.463390",
     "exception": false,
     "start_time": "2023-09-04T01:02:28.222108",
     "status": "completed"
    },
    "tags": []
   },
   "outputs": [
    {
     "data": {
      "image/png": "[encoded data removed]",
      "text/plain": [
       "<Figure size 600x400 with 2 Axes>"
      ]
     },
     "metadata": {},
     "output_type": "display_data"
    }
   ],
   "source": [
    "confusion_matrix = metrics.confusion_matrix(y_test, y_predicted)\n",
    "\n",
    "plt.figure(figsize=(6, 4))  \n",
    "sns.heatmap(confusion_matrix, annot=True, cmap='YlGnBu' ,fmt='d')\n",
    "plt.ylabel(\"Actual Values\")\n",
    "plt.xlabel(\"Predicted Values\")\n",
    "plt.show()"
   ]
  },
  {
   "cell_type": "markdown",
   "id": "3ec7e6ab",
   "metadata": {
    "papermill": {
     "duration": 0.026005,
     "end_time": "2023-09-04T01:02:28.517366",
     "exception": false,
     "start_time": "2023-09-04T01:02:28.491361",
     "status": "completed"
    },
    "tags": []
   },
   "source": [
    "We see that 32 of fraud transactions (out of 94) have been classified as legit (False Negative). But only 11 of legit transactions (out of 56868) have been classified as fraud(False positive). Or in other words,only 62 fraud transactions(out of 94, which makes it 65.9%) were accurately classified as fraud. But 56839 legit transactions (out of 56868, which makes it 99.95%) were accurately classified as legit.\n",
    "Which means that our model is doing well to predict the legit transactions but not so well to predict the fraud transactions. Which means that 99.9% accuracy is pretty much the accuracy to predict legit transactions, not fraud. But that's not what we are trying to achieve."
   ]
  },
  {
   "cell_type": "markdown",
   "id": "672698b5",
   "metadata": {
    "papermill": {
     "duration": 0.025513,
     "end_time": "2023-09-04T01:02:28.568267",
     "exception": false,
     "start_time": "2023-09-04T01:02:28.542754",
     "status": "completed"
    },
    "tags": []
   },
   "source": [
    "**What if we scale Time and Amount in our dataset ?**"
   ]
  },
  {
   "cell_type": "markdown",
   "id": "1e9c8ce0",
   "metadata": {
    "papermill": {
     "duration": 0.028017,
     "end_time": "2023-09-04T01:02:28.623147",
     "exception": false,
     "start_time": "2023-09-04T01:02:28.595130",
     "status": "completed"
    },
    "tags": []
   },
   "source": [
    "(scaling features refers to the process of adjusting the numerical values of different features in a dataset to a common scale, This is done to ensure that all features contribute equally to machine learning algorithms and to improve their performance and convergence)"
   ]
  },
  {
   "cell_type": "code",
   "execution_count": 16,
   "id": "ef8dacbd",
   "metadata": {
    "execution": {
     "iopub.execute_input": "2023-09-04T01:02:28.678509Z",
     "iopub.status.busy": "2023-09-04T01:02:28.677927Z",
     "iopub.status.idle": "2023-09-04T01:02:28.753960Z",
     "shell.execute_reply": "2023-09-04T01:02:28.752674Z"
    },
    "papermill": {
     "duration": 0.105322,
     "end_time": "2023-09-04T01:02:28.756039",
     "exception": false,
     "start_time": "2023-09-04T01:02:28.650717",
     "status": "completed"
    },
    "tags": []
   },
   "outputs": [
    {
     "data": {
      "text/html": [
       "<div>\n",
       "<style scoped>\n",
       "    .dataframe tbody tr th:only-of-type {\n",
       "        vertical-align: middle;\n",
       "    }\n",
       "\n",
       "    .dataframe tbody tr th {\n",
       "        vertical-align: top;\n",
       "    }\n",
       "\n",
       "    .dataframe thead th {\n",
       "        text-align: right;\n",
       "    }\n",
       "</style>\n",
       "<table border=\"1\" class=\"dataframe\">\n",
       "  <thead>\n",
       "    <tr style=\"text-align: right;\">\n",
       "      <th></th>\n",
       "      <th>scaled_time</th>\n",
       "      <th>scaled_amount</th>\n",
       "      <th>V1</th>\n",
       "      <th>V2</th>\n",
       "      <th>V3</th>\n",
       "      <th>V4</th>\n",
       "      <th>V5</th>\n",
       "      <th>V6</th>\n",
       "      <th>V7</th>\n",
       "      <th>V8</th>\n",
       "      <th>...</th>\n",
       "      <th>V20</th>\n",
       "      <th>V21</th>\n",
       "      <th>V22</th>\n",
       "      <th>V23</th>\n",
       "      <th>V24</th>\n",
       "      <th>V25</th>\n",
       "      <th>V26</th>\n",
       "      <th>V27</th>\n",
       "      <th>V28</th>\n",
       "      <th>Class</th>\n",
       "    </tr>\n",
       "  </thead>\n",
       "  <tbody>\n",
       "    <tr>\n",
       "      <th>0</th>\n",
       "      <td>-0.994983</td>\n",
       "      <td>1.783274</td>\n",
       "      <td>-1.359807</td>\n",
       "      <td>-0.072781</td>\n",
       "      <td>2.536347</td>\n",
       "      <td>1.378155</td>\n",
       "      <td>-0.338321</td>\n",
       "      <td>0.462388</td>\n",
       "      <td>0.239599</td>\n",
       "      <td>0.098698</td>\n",
       "      <td>...</td>\n",
       "      <td>0.251412</td>\n",
       "      <td>-0.018307</td>\n",
       "      <td>0.277838</td>\n",
       "      <td>-0.110474</td>\n",
       "      <td>0.066928</td>\n",
       "      <td>0.128539</td>\n",
       "      <td>-0.189115</td>\n",
       "      <td>0.133558</td>\n",
       "      <td>-0.021053</td>\n",
       "      <td>0</td>\n",
       "    </tr>\n",
       "    <tr>\n",
       "      <th>1</th>\n",
       "      <td>-0.994983</td>\n",
       "      <td>-0.269825</td>\n",
       "      <td>1.191857</td>\n",
       "      <td>0.266151</td>\n",
       "      <td>0.166480</td>\n",
       "      <td>0.448154</td>\n",
       "      <td>0.060018</td>\n",
       "      <td>-0.082361</td>\n",
       "      <td>-0.078803</td>\n",
       "      <td>0.085102</td>\n",
       "      <td>...</td>\n",
       "      <td>-0.069083</td>\n",
       "      <td>-0.225775</td>\n",
       "      <td>-0.638672</td>\n",
       "      <td>0.101288</td>\n",
       "      <td>-0.339846</td>\n",
       "      <td>0.167170</td>\n",
       "      <td>0.125895</td>\n",
       "      <td>-0.008983</td>\n",
       "      <td>0.014724</td>\n",
       "      <td>0</td>\n",
       "    </tr>\n",
       "    <tr>\n",
       "      <th>2</th>\n",
       "      <td>-0.994972</td>\n",
       "      <td>4.983721</td>\n",
       "      <td>-1.358354</td>\n",
       "      <td>-1.340163</td>\n",
       "      <td>1.773209</td>\n",
       "      <td>0.379780</td>\n",
       "      <td>-0.503198</td>\n",
       "      <td>1.800499</td>\n",
       "      <td>0.791461</td>\n",
       "      <td>0.247676</td>\n",
       "      <td>...</td>\n",
       "      <td>0.524980</td>\n",
       "      <td>0.247998</td>\n",
       "      <td>0.771679</td>\n",
       "      <td>0.909412</td>\n",
       "      <td>-0.689281</td>\n",
       "      <td>-0.327642</td>\n",
       "      <td>-0.139097</td>\n",
       "      <td>-0.055353</td>\n",
       "      <td>-0.059752</td>\n",
       "      <td>0</td>\n",
       "    </tr>\n",
       "    <tr>\n",
       "      <th>3</th>\n",
       "      <td>-0.994972</td>\n",
       "      <td>1.418291</td>\n",
       "      <td>-0.966272</td>\n",
       "      <td>-0.185226</td>\n",
       "      <td>1.792993</td>\n",
       "      <td>-0.863291</td>\n",
       "      <td>-0.010309</td>\n",
       "      <td>1.247203</td>\n",
       "      <td>0.237609</td>\n",
       "      <td>0.377436</td>\n",
       "      <td>...</td>\n",
       "      <td>-0.208038</td>\n",
       "      <td>-0.108300</td>\n",
       "      <td>0.005274</td>\n",
       "      <td>-0.190321</td>\n",
       "      <td>-1.175575</td>\n",
       "      <td>0.647376</td>\n",
       "      <td>-0.221929</td>\n",
       "      <td>0.062723</td>\n",
       "      <td>0.061458</td>\n",
       "      <td>0</td>\n",
       "    </tr>\n",
       "    <tr>\n",
       "      <th>4</th>\n",
       "      <td>-0.994960</td>\n",
       "      <td>0.670579</td>\n",
       "      <td>-1.158233</td>\n",
       "      <td>0.877737</td>\n",
       "      <td>1.548718</td>\n",
       "      <td>0.403034</td>\n",
       "      <td>-0.407193</td>\n",
       "      <td>0.095921</td>\n",
       "      <td>0.592941</td>\n",
       "      <td>-0.270533</td>\n",
       "      <td>...</td>\n",
       "      <td>0.408542</td>\n",
       "      <td>-0.009431</td>\n",
       "      <td>0.798278</td>\n",
       "      <td>-0.137458</td>\n",
       "      <td>0.141267</td>\n",
       "      <td>-0.206010</td>\n",
       "      <td>0.502292</td>\n",
       "      <td>0.219422</td>\n",
       "      <td>0.215153</td>\n",
       "      <td>0</td>\n",
       "    </tr>\n",
       "  </tbody>\n",
       "</table>\n",
       "<p>5 rows × 31 columns</p>\n",
       "</div>"
      ],
      "text/plain": [
       "   scaled_time  scaled_amount        V1        V2        V3        V4  \\\n",
       "0    -0.994983       1.783274 -1.359807 -0.072781  2.536347  1.378155   \n",
       "1    -0.994983      -0.269825  1.191857  0.266151  0.166480  0.448154   \n",
       "2    -0.994972       4.983721 -1.358354 -1.340163  1.773209  0.379780   \n",
       "3    -0.994972       1.418291 -0.966272 -0.185226  1.792993 -0.863291   \n",
       "4    -0.994960       0.670579 -1.158233  0.877737  1.548718  0.403034   \n",
       "\n",
       "         V5        V6        V7        V8  ...       V20       V21       V22  \\\n",
       "0 -0.338321  0.462388  0.239599  0.098698  ...  0.251412 -0.018307  0.277838   \n",
       "1  0.060018 -0.082361 -0.078803  0.085102  ... -0.069083 -0.225775 -0.638672   \n",
       "2 -0.503198  1.800499  0.791461  0.247676  ...  0.524980  0.247998  0.771679   \n",
       "3 -0.010309  1.247203  0.237609  0.377436  ... -0.208038 -0.108300  0.005274   \n",
       "4 -0.407193  0.095921  0.592941 -0.270533  ...  0.408542 -0.009431  0.798278   \n",
       "\n",
       "        V23       V24       V25       V26       V27       V28  Class  \n",
       "0 -0.110474  0.066928  0.128539 -0.189115  0.133558 -0.021053      0  \n",
       "1  0.101288 -0.339846  0.167170  0.125895 -0.008983  0.014724      0  \n",
       "2  0.909412 -0.689281 -0.327642 -0.139097 -0.055353 -0.059752      0  \n",
       "3 -0.190321 -1.175575  0.647376 -0.221929  0.062723  0.061458      0  \n",
       "4 -0.137458  0.141267 -0.206010  0.502292  0.219422  0.215153      0  \n",
       "\n",
       "[5 rows x 31 columns]"
      ]
     },
     "execution_count": 16,
     "metadata": {},
     "output_type": "execute_result"
    }
   ],
   "source": [
    "from sklearn.preprocessing import RobustScaler\n",
    "rs = RobustScaler()\n",
    "df['scaled_amount'] = rs.fit_transform(df['Amount'].values.reshape(-1,1))\n",
    "df['scaled_time'] = rs.fit_transform(df['Time'].values.reshape(-1,1))\n",
    "\n",
    "df.drop(['Time', 'Amount'], axis=1, inplace=True)\n",
    "scaled_amount = df['scaled_amount']\n",
    "scaled_time = df['scaled_time']\n",
    "df.drop(['scaled_amount', 'scaled_time'], axis=1, inplace=True)\n",
    "df.insert(0, 'scaled_amount', scaled_amount)\n",
    "df.insert(0, 'scaled_time', scaled_time)\n",
    "df.head()"
   ]
  },
  {
   "cell_type": "code",
   "execution_count": 17,
   "id": "f1c3c7b0",
   "metadata": {
    "execution": {
     "iopub.execute_input": "2023-09-04T01:02:28.810102Z",
     "iopub.status.busy": "2023-09-04T01:02:28.809750Z",
     "iopub.status.idle": "2023-09-04T01:02:28.930420Z",
     "shell.execute_reply": "2023-09-04T01:02:28.928984Z"
    },
    "papermill": {
     "duration": 0.15046,
     "end_time": "2023-09-04T01:02:28.932807",
     "exception": false,
     "start_time": "2023-09-04T01:02:28.782347",
     "status": "completed"
    },
    "tags": []
   },
   "outputs": [],
   "source": [
    "inputs = df.drop(\"Class\", axis=\"columns\")\n",
    "targets = df.Class\n",
    "x_train, x_test, y_train, y_test = train_test_split( inputs, targets, test_size=0.2, random_state=10)"
   ]
  },
  {
   "cell_type": "markdown",
   "id": "f41d2cb4",
   "metadata": {
    "papermill": {
     "duration": 0.026135,
     "end_time": "2023-09-04T01:02:28.985324",
     "exception": false,
     "start_time": "2023-09-04T01:02:28.959189",
     "status": "completed"
    },
    "tags": []
   },
   "source": [
    "lets train the model again"
   ]
  },
  {
   "cell_type": "code",
   "execution_count": 18,
   "id": "aecc8faa",
   "metadata": {
    "execution": {
     "iopub.execute_input": "2023-09-04T01:02:29.039200Z",
     "iopub.status.busy": "2023-09-04T01:02:29.038845Z",
     "iopub.status.idle": "2023-09-04T01:02:31.596561Z",
     "shell.execute_reply": "2023-09-04T01:02:31.595665Z"
    },
    "papermill": {
     "duration": 2.587063,
     "end_time": "2023-09-04T01:02:31.598488",
     "exception": false,
     "start_time": "2023-09-04T01:02:29.011425",
     "status": "completed"
    },
    "tags": []
   },
   "outputs": [
    {
     "name": "stdout",
     "output_type": "stream",
     "text": [
      "              precision    recall  f1-score   support\n",
      "\n",
      "           0       1.00      1.00      1.00     56868\n",
      "           1       0.88      0.67      0.76        94\n",
      "\n",
      "    accuracy                           1.00     56962\n",
      "   macro avg       0.94      0.84      0.88     56962\n",
      "weighted avg       1.00      1.00      1.00     56962\n",
      "\n",
      "0.9992977774656788\n"
     ]
    }
   ],
   "source": [
    "lg=LogisticRegression(max_iter = 10000)\n",
    "lg.fit(x_train,y_train)\n",
    "y_predicted = lg.predict(x_test)\n",
    "accuracy = lg.score(x_test, y_test)\n",
    "\n",
    "print(classification_report(y_test,y_predicted))\n",
    "print(accuracy)"
   ]
  },
  {
   "cell_type": "code",
   "execution_count": 19,
   "id": "3671a45c",
   "metadata": {
    "execution": {
     "iopub.execute_input": "2023-09-04T01:02:31.664861Z",
     "iopub.status.busy": "2023-09-04T01:02:31.664475Z",
     "iopub.status.idle": "2023-09-04T01:02:31.864409Z",
     "shell.execute_reply": "2023-09-04T01:02:31.863318Z"
    },
    "papermill": {
     "duration": 0.232868,
     "end_time": "2023-09-04T01:02:31.866739",
     "exception": false,
     "start_time": "2023-09-04T01:02:31.633871",
     "status": "completed"
    },
    "tags": []
   },
   "outputs": [
    {
     "data": {
      "image/png": "[encoded data removed]",
      "text/plain": [
       "<Figure size 600x400 with 2 Axes>"
      ]
     },
     "metadata": {},
     "output_type": "display_data"
    }
   ],
   "source": [
    "confusion_matrix = metrics.confusion_matrix(y_test, y_predicted)\n",
    "\n",
    "plt.figure(figsize=(6, 4))  \n",
    "sns.heatmap(confusion_matrix, annot=True, cmap='YlGnBu' ,fmt='d')\n",
    "plt.ylabel(\"Actual Values\")\n",
    "plt.xlabel(\"Predicted Values\")\n",
    "plt.show()"
   ]
  },
  {
   "cell_type": "markdown",
   "id": "e39519b8",
   "metadata": {
    "papermill": {
     "duration": 0.025967,
     "end_time": "2023-09-04T01:02:31.918880",
     "exception": false,
     "start_time": "2023-09-04T01:02:31.892913",
     "status": "completed"
    },
    "tags": []
   },
   "source": [
    "we see that scaling our features help by reducing the number of both false positives and false nagatives"
   ]
  },
  {
   "cell_type": "markdown",
   "id": "44be3dac",
   "metadata": {
    "papermill": {
     "duration": 0.02517,
     "end_time": "2023-09-04T01:02:31.969816",
     "exception": false,
     "start_time": "2023-09-04T01:02:31.944646",
     "status": "completed"
    },
    "tags": []
   },
   "source": [
    "So we will continue usinge scaled features"
   ]
  },
  {
   "cell_type": "markdown",
   "id": "7b563594",
   "metadata": {
    "papermill": {
     "duration": 0.025973,
     "end_time": "2023-09-04T01:02:32.021640",
     "exception": false,
     "start_time": "2023-09-04T01:02:31.995667",
     "status": "completed"
    },
    "tags": []
   },
   "source": [
    "# How to handle imbalanced datasets"
   ]
  },
  {
   "cell_type": "markdown",
   "id": "b3a750f9",
   "metadata": {
    "papermill": {
     "duration": 0.025607,
     "end_time": "2023-09-04T01:02:32.073078",
     "exception": false,
     "start_time": "2023-09-04T01:02:32.047471",
     "status": "completed"
    },
    "tags": []
   },
   "source": [
    "One of the mainly used methodes is the Resampling which is to make the data set more balanced by adding new samples to the minority class or removing samples from the majority class.\n",
    "There are different techniques for this:\n",
    "Balancing with Undersampling\n",
    "* Random Undersampling\n",
    "* Random Oversampling\n",
    "* SMOTE (Synthetic Minority Over-sampling Technique)\n",
    "* ADASYN (Adaptive Synthetic Sampling)"
   ]
  },
  {
   "cell_type": "markdown",
   "id": "ab76ad06",
   "metadata": {
    "papermill": {
     "duration": 0.02529,
     "end_time": "2023-09-04T01:02:32.124234",
     "exception": false,
     "start_time": "2023-09-04T01:02:32.098944",
     "status": "completed"
    },
    "tags": []
   },
   "source": [
    "## 1. Random Undersampling"
   ]
  },
  {
   "cell_type": "markdown",
   "id": "e4312be8",
   "metadata": {
    "papermill": {
     "duration": 0.025583,
     "end_time": "2023-09-04T01:02:32.175594",
     "exception": false,
     "start_time": "2023-09-04T01:02:32.150011",
     "status": "completed"
    },
    "tags": []
   },
   "source": [
    "We intend to address the data imbalance issue by performing undersampling specifically on the legitimate transactions within our training dataset. It's important to note that we won't apply the balancing technique to the test data. We have chosen to retain the imbalance in the test set to ensure that the model's evaluation aligns with its real-world application, where imbalanced data is prevalent.\n",
    "\n",
    "To execute this approach, we will first recreate the training data from x_train and y_train to separate legit and fraud transactions."
   ]
  },
  {
   "cell_type": "code",
   "execution_count": 20,
   "id": "8a0f569c",
   "metadata": {
    "execution": {
     "iopub.execute_input": "2023-09-04T01:02:32.232487Z",
     "iopub.status.busy": "2023-09-04T01:02:32.231882Z",
     "iopub.status.idle": "2023-09-04T01:02:32.264456Z",
     "shell.execute_reply": "2023-09-04T01:02:32.263236Z"
    },
    "papermill": {
     "duration": 0.064006,
     "end_time": "2023-09-04T01:02:32.266574",
     "exception": false,
     "start_time": "2023-09-04T01:02:32.202568",
     "status": "completed"
    },
    "tags": []
   },
   "outputs": [
    {
     "data": {
      "text/html": [
       "<div>\n",
       "<style scoped>\n",
       "    .dataframe tbody tr th:only-of-type {\n",
       "        vertical-align: middle;\n",
       "    }\n",
       "\n",
       "    .dataframe tbody tr th {\n",
       "        vertical-align: top;\n",
       "    }\n",
       "\n",
       "    .dataframe thead th {\n",
       "        text-align: right;\n",
       "    }\n",
       "</style>\n",
       "<table border=\"1\" class=\"dataframe\">\n",
       "  <thead>\n",
       "    <tr style=\"text-align: right;\">\n",
       "      <th></th>\n",
       "      <th>scaled_time</th>\n",
       "      <th>scaled_amount</th>\n",
       "      <th>V1</th>\n",
       "      <th>V2</th>\n",
       "      <th>V3</th>\n",
       "      <th>V4</th>\n",
       "      <th>V5</th>\n",
       "      <th>V6</th>\n",
       "      <th>V7</th>\n",
       "      <th>V8</th>\n",
       "      <th>...</th>\n",
       "      <th>V20</th>\n",
       "      <th>V21</th>\n",
       "      <th>V22</th>\n",
       "      <th>V23</th>\n",
       "      <th>V24</th>\n",
       "      <th>V25</th>\n",
       "      <th>V26</th>\n",
       "      <th>V27</th>\n",
       "      <th>V28</th>\n",
       "      <th>Class</th>\n",
       "    </tr>\n",
       "  </thead>\n",
       "  <tbody>\n",
       "    <tr>\n",
       "      <th>245582</th>\n",
       "      <td>0.800327</td>\n",
       "      <td>0.041780</td>\n",
       "      <td>-3.678592</td>\n",
       "      <td>-2.185288</td>\n",
       "      <td>2.145642</td>\n",
       "      <td>-0.108133</td>\n",
       "      <td>5.326785</td>\n",
       "      <td>-3.320732</td>\n",
       "      <td>-4.715889</td>\n",
       "      <td>-0.676015</td>\n",
       "      <td>...</td>\n",
       "      <td>-1.528738</td>\n",
       "      <td>0.281099</td>\n",
       "      <td>-1.687634</td>\n",
       "      <td>-5.947433</td>\n",
       "      <td>0.991956</td>\n",
       "      <td>-0.871129</td>\n",
       "      <td>-0.674865</td>\n",
       "      <td>0.526634</td>\n",
       "      <td>0.318034</td>\n",
       "      <td>0</td>\n",
       "    </tr>\n",
       "    <tr>\n",
       "      <th>33921</th>\n",
       "      <td>-0.555129</td>\n",
       "      <td>-0.296793</td>\n",
       "      <td>1.289134</td>\n",
       "      <td>0.467212</td>\n",
       "      <td>-1.035215</td>\n",
       "      <td>0.348510</td>\n",
       "      <td>0.965128</td>\n",
       "      <td>0.162317</td>\n",
       "      <td>0.188477</td>\n",
       "      <td>0.053558</td>\n",
       "      <td>...</td>\n",
       "      <td>-0.051953</td>\n",
       "      <td>-0.147832</td>\n",
       "      <td>-0.362923</td>\n",
       "      <td>-0.230544</td>\n",
       "      <td>-1.427948</td>\n",
       "      <td>0.650917</td>\n",
       "      <td>0.465196</td>\n",
       "      <td>-0.022903</td>\n",
       "      <td>0.009328</td>\n",
       "      <td>0</td>\n",
       "    </tr>\n",
       "    <tr>\n",
       "      <th>18808</th>\n",
       "      <td>-0.645073</td>\n",
       "      <td>1.439251</td>\n",
       "      <td>0.824080</td>\n",
       "      <td>-1.197571</td>\n",
       "      <td>1.671425</td>\n",
       "      <td>0.999394</td>\n",
       "      <td>-1.540596</td>\n",
       "      <td>1.480644</td>\n",
       "      <td>-1.451232</td>\n",
       "      <td>0.713797</td>\n",
       "      <td>...</td>\n",
       "      <td>0.017694</td>\n",
       "      <td>0.162967</td>\n",
       "      <td>0.668738</td>\n",
       "      <td>-0.229503</td>\n",
       "      <td>-0.232408</td>\n",
       "      <td>0.256959</td>\n",
       "      <td>0.741650</td>\n",
       "      <td>0.042034</td>\n",
       "      <td>0.029245</td>\n",
       "      <td>0</td>\n",
       "    </tr>\n",
       "    <tr>\n",
       "      <th>52806</th>\n",
       "      <td>-0.458640</td>\n",
       "      <td>-0.028226</td>\n",
       "      <td>-0.763642</td>\n",
       "      <td>1.153200</td>\n",
       "      <td>0.845734</td>\n",
       "      <td>-0.287226</td>\n",
       "      <td>-0.005743</td>\n",
       "      <td>-0.137666</td>\n",
       "      <td>0.255488</td>\n",
       "      <td>0.578325</td>\n",
       "      <td>...</td>\n",
       "      <td>0.036340</td>\n",
       "      <td>-0.183093</td>\n",
       "      <td>-0.678964</td>\n",
       "      <td>-0.037631</td>\n",
       "      <td>-0.529925</td>\n",
       "      <td>-0.096189</td>\n",
       "      <td>0.108287</td>\n",
       "      <td>0.126774</td>\n",
       "      <td>0.039826</td>\n",
       "      <td>0</td>\n",
       "    </tr>\n",
       "    <tr>\n",
       "      <th>200909</th>\n",
       "      <td>0.575030</td>\n",
       "      <td>-0.167819</td>\n",
       "      <td>1.986009</td>\n",
       "      <td>-0.337558</td>\n",
       "      <td>-0.418934</td>\n",
       "      <td>0.369815</td>\n",
       "      <td>-0.360600</td>\n",
       "      <td>-0.012716</td>\n",
       "      <td>-0.588175</td>\n",
       "      <td>-0.005277</td>\n",
       "      <td>...</td>\n",
       "      <td>-0.113618</td>\n",
       "      <td>0.199920</td>\n",
       "      <td>0.863473</td>\n",
       "      <td>0.130956</td>\n",
       "      <td>0.660961</td>\n",
       "      <td>-0.034146</td>\n",
       "      <td>-0.240472</td>\n",
       "      <td>0.047897</td>\n",
       "      <td>-0.028392</td>\n",
       "      <td>0</td>\n",
       "    </tr>\n",
       "  </tbody>\n",
       "</table>\n",
       "<p>5 rows × 31 columns</p>\n",
       "</div>"
      ],
      "text/plain": [
       "        scaled_time  scaled_amount        V1        V2        V3        V4  \\\n",
       "245582     0.800327       0.041780 -3.678592 -2.185288  2.145642 -0.108133   \n",
       "33921     -0.555129      -0.296793  1.289134  0.467212 -1.035215  0.348510   \n",
       "18808     -0.645073       1.439251  0.824080 -1.197571  1.671425  0.999394   \n",
       "52806     -0.458640      -0.028226 -0.763642  1.153200  0.845734 -0.287226   \n",
       "200909     0.575030      -0.167819  1.986009 -0.337558 -0.418934  0.369815   \n",
       "\n",
       "              V5        V6        V7        V8  ...       V20       V21  \\\n",
       "245582  5.326785 -3.320732 -4.715889 -0.676015  ... -1.528738  0.281099   \n",
       "33921   0.965128  0.162317  0.188477  0.053558  ... -0.051953 -0.147832   \n",
       "18808  -1.540596  1.480644 -1.451232  0.713797  ...  0.017694  0.162967   \n",
       "52806  -0.005743 -0.137666  0.255488  0.578325  ...  0.036340 -0.183093   \n",
       "200909 -0.360600 -0.012716 -0.588175 -0.005277  ... -0.113618  0.199920   \n",
       "\n",
       "             V22       V23       V24       V25       V26       V27       V28  \\\n",
       "245582 -1.687634 -5.947433  0.991956 -0.871129 -0.674865  0.526634  0.318034   \n",
       "33921  -0.362923 -0.230544 -1.427948  0.650917  0.465196 -0.022903  0.009328   \n",
       "18808   0.668738 -0.229503 -0.232408  0.256959  0.741650  0.042034  0.029245   \n",
       "52806  -0.678964 -0.037631 -0.529925 -0.096189  0.108287  0.126774  0.039826   \n",
       "200909  0.863473  0.130956  0.660961 -0.034146 -0.240472  0.047897 -0.028392   \n",
       "\n",
       "        Class  \n",
       "245582      0  \n",
       "33921       0  \n",
       "18808       0  \n",
       "52806       0  \n",
       "200909      0  \n",
       "\n",
       "[5 rows x 31 columns]"
      ]
     },
     "execution_count": 20,
     "metadata": {},
     "output_type": "execute_result"
    }
   ],
   "source": [
    "train_data = pd.concat([x_train, y_train], axis=1)\n",
    "train_data.head()"
   ]
  },
  {
   "cell_type": "code",
   "execution_count": 21,
   "id": "0d5072cd",
   "metadata": {
    "execution": {
     "iopub.execute_input": "2023-09-04T01:02:32.321842Z",
     "iopub.status.busy": "2023-09-04T01:02:32.321441Z",
     "iopub.status.idle": "2023-09-04T01:02:32.346092Z",
     "shell.execute_reply": "2023-09-04T01:02:32.345115Z"
    },
    "papermill": {
     "duration": 0.055512,
     "end_time": "2023-09-04T01:02:32.348632",
     "exception": false,
     "start_time": "2023-09-04T01:02:32.293120",
     "status": "completed"
    },
    "tags": []
   },
   "outputs": [],
   "source": [
    "legit_train = train_data[train_data.Class == 0]\n",
    "fraud_train = train_data[train_data.Class == 1]"
   ]
  },
  {
   "cell_type": "code",
   "execution_count": 22,
   "id": "62656e26",
   "metadata": {
    "execution": {
     "iopub.execute_input": "2023-09-04T01:02:32.404386Z",
     "iopub.status.busy": "2023-09-04T01:02:32.404009Z",
     "iopub.status.idle": "2023-09-04T01:02:32.409655Z",
     "shell.execute_reply": "2023-09-04T01:02:32.408097Z"
    },
    "papermill": {
     "duration": 0.035706,
     "end_time": "2023-09-04T01:02:32.411586",
     "exception": false,
     "start_time": "2023-09-04T01:02:32.375880",
     "status": "completed"
    },
    "tags": []
   },
   "outputs": [
    {
     "name": "stdout",
     "output_type": "stream",
     "text": [
      "(227447, 31) (398, 31)\n"
     ]
    }
   ],
   "source": [
    "#Check how many frauds we got so that we can undersample legit transactions to that number.\n",
    "print(legit_train.shape, fraud_train.shape)"
   ]
  },
  {
   "cell_type": "markdown",
   "id": "60e72d3f",
   "metadata": {
    "papermill": {
     "duration": 0.026464,
     "end_time": "2023-09-04T01:02:32.465530",
     "exception": false,
     "start_time": "2023-09-04T01:02:32.439066",
     "status": "completed"
    },
    "tags": []
   },
   "source": [
    "So, we see that there are 227447 legit transactions and 398 fraud transactions in our training data set. We will balance this dataset by randomly selecting 398 legit transactions out of 227447. This is called random undersampling."
   ]
  },
  {
   "cell_type": "code",
   "execution_count": 23,
   "id": "4228aab0",
   "metadata": {
    "execution": {
     "iopub.execute_input": "2023-09-04T01:02:32.520573Z",
     "iopub.status.busy": "2023-09-04T01:02:32.520201Z",
     "iopub.status.idle": "2023-09-04T01:02:32.534719Z",
     "shell.execute_reply": "2023-09-04T01:02:32.533261Z"
    },
    "papermill": {
     "duration": 0.044715,
     "end_time": "2023-09-04T01:02:32.536926",
     "exception": false,
     "start_time": "2023-09-04T01:02:32.492211",
     "status": "completed"
    },
    "tags": []
   },
   "outputs": [
    {
     "data": {
      "text/plain": [
       "(398, 31)"
      ]
     },
     "execution_count": 23,
     "metadata": {},
     "output_type": "execute_result"
    }
   ],
   "source": [
    "legit_train = legit_train.sample(n=398)\n",
    "legit_train.shape"
   ]
  },
  {
   "cell_type": "code",
   "execution_count": 24,
   "id": "f1e2def4",
   "metadata": {
    "execution": {
     "iopub.execute_input": "2023-09-04T01:02:32.594566Z",
     "iopub.status.busy": "2023-09-04T01:02:32.594233Z",
     "iopub.status.idle": "2023-09-04T01:02:32.601914Z",
     "shell.execute_reply": "2023-09-04T01:02:32.600473Z"
    },
    "papermill": {
     "duration": 0.040256,
     "end_time": "2023-09-04T01:02:32.603672",
     "exception": false,
     "start_time": "2023-09-04T01:02:32.563416",
     "status": "completed"
    },
    "tags": []
   },
   "outputs": [
    {
     "data": {
      "text/plain": [
       "(796, 31)"
      ]
     },
     "execution_count": 24,
     "metadata": {},
     "output_type": "execute_result"
    }
   ],
   "source": [
    "#Now that we have same number of fraud and legit transactions, let's join them back to recreate a complete balanced training dataset.\n",
    "train_data_undersampled = pd.concat([legit_train, fraud_train], axis=0)\n",
    "train_data_undersampled.shape"
   ]
  },
  {
   "cell_type": "markdown",
   "id": "c3a0395b",
   "metadata": {
    "papermill": {
     "duration": 0.026207,
     "end_time": "2023-09-04T01:02:32.656161",
     "exception": false,
     "start_time": "2023-09-04T01:02:32.629954",
     "status": "completed"
    },
    "tags": []
   },
   "source": [
    "Let's separate features and targets from the new training dataset.\n",
    "\n"
   ]
  },
  {
   "cell_type": "code",
   "execution_count": 25,
   "id": "74043188",
   "metadata": {
    "execution": {
     "iopub.execute_input": "2023-09-04T01:02:32.710682Z",
     "iopub.status.busy": "2023-09-04T01:02:32.710340Z",
     "iopub.status.idle": "2023-09-04T01:02:32.717759Z",
     "shell.execute_reply": "2023-09-04T01:02:32.716444Z"
    },
    "papermill": {
     "duration": 0.03804,
     "end_time": "2023-09-04T01:02:32.720384",
     "exception": false,
     "start_time": "2023-09-04T01:02:32.682344",
     "status": "completed"
    },
    "tags": []
   },
   "outputs": [],
   "source": [
    "x_train_undersampled = train_data_undersampled.drop('Class', axis='columns')\n",
    "y_train_undersampled = train_data_undersampled.Class"
   ]
  },
  {
   "cell_type": "markdown",
   "id": "329cfc5b",
   "metadata": {
    "papermill": {
     "duration": 0.028228,
     "end_time": "2023-09-04T01:02:32.776720",
     "exception": false,
     "start_time": "2023-09-04T01:02:32.748492",
     "status": "completed"
    },
    "tags": []
   },
   "source": [
    "We don't have to bother with the test dataset because it will stay the same. So, we will just fit the model with new x_train_new, y_train_new and old x_test, y_test."
   ]
  },
  {
   "cell_type": "code",
   "execution_count": 26,
   "id": "53fd4e98",
   "metadata": {
    "execution": {
     "iopub.execute_input": "2023-09-04T01:02:32.832456Z",
     "iopub.status.busy": "2023-09-04T01:02:32.832119Z",
     "iopub.status.idle": "2023-09-04T01:02:32.942222Z",
     "shell.execute_reply": "2023-09-04T01:02:32.941015Z"
    },
    "papermill": {
     "duration": 0.139905,
     "end_time": "2023-09-04T01:02:32.944091",
     "exception": false,
     "start_time": "2023-09-04T01:02:32.804186",
     "status": "completed"
    },
    "tags": []
   },
   "outputs": [
    {
     "name": "stdout",
     "output_type": "stream",
     "text": [
      "              precision    recall  f1-score   support\n",
      "\n",
      "           0       1.00      0.97      0.99     56868\n",
      "           1       0.05      0.90      0.10        94\n",
      "\n",
      "    accuracy                           0.97     56962\n",
      "   macro avg       0.52      0.94      0.54     56962\n",
      "weighted avg       1.00      0.97      0.98     56962\n",
      "\n",
      "0.9715775429233524\n"
     ]
    }
   ],
   "source": [
    "lg=LogisticRegression(max_iter = 10000)\n",
    "lg.fit(x_train_undersampled,y_train_undersampled)\n",
    "y_predicted_undersampled = lg.predict(x_test)\n",
    "accuracy = lg.score(x_test, y_test)\n",
    "\n",
    "print(classification_report(y_test,y_predicted_undersampled))\n",
    "print(accuracy)"
   ]
  },
  {
   "cell_type": "markdown",
   "id": "730d056d",
   "metadata": {
    "papermill": {
     "duration": 0.027918,
     "end_time": "2023-09-04T01:02:33.009787",
     "exception": false,
     "start_time": "2023-09-04T01:02:32.981869",
     "status": "completed"
    },
    "tags": []
   },
   "source": [
    "We got an accuracy of 96.56%. Not bad. Let's check the confusion matrix.\n",
    "\n"
   ]
  },
  {
   "cell_type": "code",
   "execution_count": 27,
   "id": "2e6d6027",
   "metadata": {
    "execution": {
     "iopub.execute_input": "2023-09-04T01:02:33.064443Z",
     "iopub.status.busy": "2023-09-04T01:02:33.064089Z",
     "iopub.status.idle": "2023-09-04T01:02:33.245515Z",
     "shell.execute_reply": "2023-09-04T01:02:33.244392Z"
    },
    "papermill": {
     "duration": 0.211365,
     "end_time": "2023-09-04T01:02:33.247683",
     "exception": false,
     "start_time": "2023-09-04T01:02:33.036318",
     "status": "completed"
    },
    "tags": []
   },
   "outputs": [
    {
     "data": {
      "image/png": "[encoded data removed]",
      "text/plain": [
       "<Figure size 600x400 with 2 Axes>"
      ]
     },
     "metadata": {},
     "output_type": "display_data"
    }
   ],
   "source": [
    "confusion_matrix = metrics.confusion_matrix(y_test, y_predicted_undersampled)\n",
    "\n",
    "plt.figure(figsize=(6, 4))  \n",
    "sns.heatmap(confusion_matrix, annot=True, cmap='YlGnBu' ,fmt='d')\n",
    "plt.ylabel(\"Actual Values\")\n",
    "plt.xlabel(\"Predicted Values\")\n",
    "plt.show()"
   ]
  },
  {
   "cell_type": "markdown",
   "id": "b7525538",
   "metadata": {
    "papermill": {
     "duration": 0.026505,
     "end_time": "2023-09-04T01:02:33.301518",
     "exception": false,
     "start_time": "2023-09-04T01:02:33.275013",
     "status": "completed"
    },
    "tags": []
   },
   "source": [
    "From the confusion matrix, we see that 85 fraud transactions (out of 94, which makes it 90.4% ) were accurately classified as fraud. And 54870 legit transactions (out of 56868, which makes it 96.48%) were accurately classified as legit. Only 9 fraud transactions were classified as legit transactions. This result shows that even though we got less accuracy, this model is better at predicting the fraud transactions."
   ]
  },
  {
   "cell_type": "markdown",
   "id": "0bb19afc",
   "metadata": {
    "papermill": {
     "duration": 0.028225,
     "end_time": "2023-09-04T01:02:33.357777",
     "exception": false,
     "start_time": "2023-09-04T01:02:33.329552",
     "status": "completed"
    },
    "tags": []
   },
   "source": [
    "## 2. Random Oversampling"
   ]
  },
  {
   "cell_type": "markdown",
   "id": "c178e640",
   "metadata": {
    "papermill": {
     "duration": 0.026606,
     "end_time": "2023-09-04T01:02:33.411377",
     "exception": false,
     "start_time": "2023-09-04T01:02:33.384771",
     "status": "completed"
    },
    "tags": []
   },
   "source": [
    "In the other hand Random Oversampling involves randomly selecting instances from the minority class and adding them to the training dataset until the class distribution is more balanced.\n",
    "and that's why we will randomly duplicate fraud transactions untill we get a balanced new dataset."
   ]
  },
  {
   "cell_type": "code",
   "execution_count": 28,
   "id": "8ccbee76",
   "metadata": {
    "execution": {
     "iopub.execute_input": "2023-09-04T01:02:33.467076Z",
     "iopub.status.busy": "2023-09-04T01:02:33.466762Z",
     "iopub.status.idle": "2023-09-04T01:02:33.471957Z",
     "shell.execute_reply": "2023-09-04T01:02:33.470586Z"
    },
    "papermill": {
     "duration": 0.035292,
     "end_time": "2023-09-04T01:02:33.473750",
     "exception": false,
     "start_time": "2023-09-04T01:02:33.438458",
     "status": "completed"
    },
    "tags": []
   },
   "outputs": [],
   "source": [
    "from sklearn.utils import resample"
   ]
  },
  {
   "cell_type": "code",
   "execution_count": 29,
   "id": "1853f356",
   "metadata": {
    "execution": {
     "iopub.execute_input": "2023-09-04T01:02:33.531779Z",
     "iopub.status.busy": "2023-09-04T01:02:33.531043Z",
     "iopub.status.idle": "2023-09-04T01:02:33.585389Z",
     "shell.execute_reply": "2023-09-04T01:02:33.584080Z"
    },
    "papermill": {
     "duration": 0.085523,
     "end_time": "2023-09-04T01:02:33.587910",
     "exception": false,
     "start_time": "2023-09-04T01:02:33.502387",
     "status": "completed"
    },
    "tags": []
   },
   "outputs": [],
   "source": [
    "not_fraud = df[df.Class==0]\n",
    "fraud = df[df.Class==1]"
   ]
  },
  {
   "cell_type": "code",
   "execution_count": 30,
   "id": "1153162d",
   "metadata": {
    "execution": {
     "iopub.execute_input": "2023-09-04T01:02:33.645259Z",
     "iopub.status.busy": "2023-09-04T01:02:33.644689Z",
     "iopub.status.idle": "2023-09-04T01:02:33.648733Z",
     "shell.execute_reply": "2023-09-04T01:02:33.648049Z"
    },
    "papermill": {
     "duration": 0.034698,
     "end_time": "2023-09-04T01:02:33.650511",
     "exception": false,
     "start_time": "2023-09-04T01:02:33.615813",
     "status": "completed"
    },
    "tags": []
   },
   "outputs": [
    {
     "name": "stdout",
     "output_type": "stream",
     "text": [
      "(284315, 31) (492, 31)\n"
     ]
    }
   ],
   "source": [
    "# before oversamling\n",
    "print(not_fraud.shape, fraud.shape)"
   ]
  },
  {
   "cell_type": "markdown",
   "id": "74f6820f",
   "metadata": {
    "papermill": {
     "duration": 0.027804,
     "end_time": "2023-09-04T01:02:33.705672",
     "exception": false,
     "start_time": "2023-09-04T01:02:33.677868",
     "status": "completed"
    },
    "tags": []
   },
   "source": [
    "now we will split our data to 80% for training and 20% for testing"
   ]
  },
  {
   "cell_type": "code",
   "execution_count": 31,
   "id": "0d1adcd5",
   "metadata": {
    "execution": {
     "iopub.execute_input": "2023-09-04T01:02:33.762405Z",
     "iopub.status.busy": "2023-09-04T01:02:33.761747Z",
     "iopub.status.idle": "2023-09-04T01:02:33.794347Z",
     "shell.execute_reply": "2023-09-04T01:02:33.793410Z"
    },
    "papermill": {
     "duration": 0.063688,
     "end_time": "2023-09-04T01:02:33.796500",
     "exception": false,
     "start_time": "2023-09-04T01:02:33.732812",
     "status": "completed"
    },
    "tags": []
   },
   "outputs": [],
   "source": [
    "not_fraud_test,not_fraud_train = np.split(not_fraud, [int(0.2*len(not_fraud))])\n",
    "fraud_test,fraud_train = np.split(fraud, [int(0.2*len(fraud))])"
   ]
  },
  {
   "cell_type": "markdown",
   "id": "f45aa01c",
   "metadata": {
    "papermill": {
     "duration": 0.027283,
     "end_time": "2023-09-04T01:02:33.851397",
     "exception": false,
     "start_time": "2023-09-04T01:02:33.824114",
     "status": "completed"
    },
    "tags": []
   },
   "source": [
    "We will duplicate fraud transactions untill the number of frauds matches the number of not fraud transactions ( len(not_fraud_train) ) and we will fix random_state number to get reproducible results"
   ]
  },
  {
   "cell_type": "code",
   "execution_count": 32,
   "id": "86a6a879",
   "metadata": {
    "execution": {
     "iopub.execute_input": "2023-09-04T01:02:33.907703Z",
     "iopub.status.busy": "2023-09-04T01:02:33.907308Z",
     "iopub.status.idle": "2023-09-04T01:02:33.929962Z",
     "shell.execute_reply": "2023-09-04T01:02:33.929001Z"
    },
    "papermill": {
     "duration": 0.053556,
     "end_time": "2023-09-04T01:02:33.932267",
     "exception": false,
     "start_time": "2023-09-04T01:02:33.878711",
     "status": "completed"
    },
    "tags": []
   },
   "outputs": [],
   "source": [
    "\n",
    "upsampled_fraud = resample(fraud_train,n_samples=len(not_fraud_train),random_state=649)\n",
    "\n"
   ]
  },
  {
   "cell_type": "code",
   "execution_count": 33,
   "id": "66fcf33b",
   "metadata": {
    "execution": {
     "iopub.execute_input": "2023-09-04T01:02:33.988447Z",
     "iopub.status.busy": "2023-09-04T01:02:33.988124Z",
     "iopub.status.idle": "2023-09-04T01:02:34.009848Z",
     "shell.execute_reply": "2023-09-04T01:02:34.008849Z"
    },
    "papermill": {
     "duration": 0.051669,
     "end_time": "2023-09-04T01:02:34.011649",
     "exception": false,
     "start_time": "2023-09-04T01:02:33.959980",
     "status": "completed"
    },
    "tags": []
   },
   "outputs": [
    {
     "data": {
      "text/html": [
       "<div>\n",
       "<style scoped>\n",
       "    .dataframe tbody tr th:only-of-type {\n",
       "        vertical-align: middle;\n",
       "    }\n",
       "\n",
       "    .dataframe tbody tr th {\n",
       "        vertical-align: top;\n",
       "    }\n",
       "\n",
       "    .dataframe thead th {\n",
       "        text-align: right;\n",
       "    }\n",
       "</style>\n",
       "<table border=\"1\" class=\"dataframe\">\n",
       "  <thead>\n",
       "    <tr style=\"text-align: right;\">\n",
       "      <th></th>\n",
       "      <th>scaled_time</th>\n",
       "      <th>scaled_amount</th>\n",
       "      <th>V1</th>\n",
       "      <th>V2</th>\n",
       "      <th>V3</th>\n",
       "      <th>V4</th>\n",
       "      <th>V5</th>\n",
       "      <th>V6</th>\n",
       "      <th>V7</th>\n",
       "      <th>V8</th>\n",
       "      <th>...</th>\n",
       "      <th>V20</th>\n",
       "      <th>V21</th>\n",
       "      <th>V22</th>\n",
       "      <th>V23</th>\n",
       "      <th>V24</th>\n",
       "      <th>V25</th>\n",
       "      <th>V26</th>\n",
       "      <th>V27</th>\n",
       "      <th>V28</th>\n",
       "      <th>Class</th>\n",
       "    </tr>\n",
       "  </thead>\n",
       "  <tbody>\n",
       "    <tr>\n",
       "      <th>215132</th>\n",
       "      <td>0.649197</td>\n",
       "      <td>9.798225</td>\n",
       "      <td>-2.921944</td>\n",
       "      <td>-0.228062</td>\n",
       "      <td>-5.877289</td>\n",
       "      <td>2.201884</td>\n",
       "      <td>-1.935440</td>\n",
       "      <td>0.631141</td>\n",
       "      <td>-1.245106</td>\n",
       "      <td>1.511348</td>\n",
       "      <td>...</td>\n",
       "      <td>2.230735</td>\n",
       "      <td>1.441622</td>\n",
       "      <td>0.895528</td>\n",
       "      <td>1.385511</td>\n",
       "      <td>-2.028024</td>\n",
       "      <td>0.509131</td>\n",
       "      <td>0.172643</td>\n",
       "      <td>0.726781</td>\n",
       "      <td>0.234514</td>\n",
       "      <td>1</td>\n",
       "    </tr>\n",
       "    <tr>\n",
       "      <th>150715</th>\n",
       "      <td>0.108942</td>\n",
       "      <td>-0.148117</td>\n",
       "      <td>-11.397727</td>\n",
       "      <td>7.763953</td>\n",
       "      <td>-18.572307</td>\n",
       "      <td>6.711855</td>\n",
       "      <td>-10.174216</td>\n",
       "      <td>-4.395918</td>\n",
       "      <td>-15.893788</td>\n",
       "      <td>2.083013</td>\n",
       "      <td>...</td>\n",
       "      <td>0.208879</td>\n",
       "      <td>0.339007</td>\n",
       "      <td>1.342923</td>\n",
       "      <td>0.239217</td>\n",
       "      <td>0.534644</td>\n",
       "      <td>-0.174965</td>\n",
       "      <td>-0.500240</td>\n",
       "      <td>-1.722060</td>\n",
       "      <td>-0.574339</td>\n",
       "      <td>1</td>\n",
       "    </tr>\n",
       "    <tr>\n",
       "      <th>154718</th>\n",
       "      <td>0.211198</td>\n",
       "      <td>-0.307413</td>\n",
       "      <td>-5.603690</td>\n",
       "      <td>5.222193</td>\n",
       "      <td>-7.516830</td>\n",
       "      <td>8.117724</td>\n",
       "      <td>-2.756858</td>\n",
       "      <td>-1.574565</td>\n",
       "      <td>-6.330343</td>\n",
       "      <td>2.998419</td>\n",
       "      <td>...</td>\n",
       "      <td>0.227526</td>\n",
       "      <td>1.242896</td>\n",
       "      <td>0.428408</td>\n",
       "      <td>-0.101184</td>\n",
       "      <td>-0.520199</td>\n",
       "      <td>-0.176938</td>\n",
       "      <td>0.461450</td>\n",
       "      <td>-0.106625</td>\n",
       "      <td>-0.479662</td>\n",
       "      <td>1</td>\n",
       "    </tr>\n",
       "    <tr>\n",
       "      <th>42549</th>\n",
       "      <td>-0.511578</td>\n",
       "      <td>0.925452</td>\n",
       "      <td>-5.314173</td>\n",
       "      <td>4.145944</td>\n",
       "      <td>-8.532522</td>\n",
       "      <td>8.344392</td>\n",
       "      <td>-5.718008</td>\n",
       "      <td>-3.043536</td>\n",
       "      <td>-10.989185</td>\n",
       "      <td>3.404129</td>\n",
       "      <td>...</td>\n",
       "      <td>1.150017</td>\n",
       "      <td>2.331466</td>\n",
       "      <td>0.862996</td>\n",
       "      <td>-0.614453</td>\n",
       "      <td>0.523648</td>\n",
       "      <td>-0.712593</td>\n",
       "      <td>0.324638</td>\n",
       "      <td>2.245091</td>\n",
       "      <td>0.497321</td>\n",
       "      <td>1</td>\n",
       "    </tr>\n",
       "    <tr>\n",
       "      <th>223618</th>\n",
       "      <td>0.690375</td>\n",
       "      <td>-0.293440</td>\n",
       "      <td>-2.006582</td>\n",
       "      <td>3.676577</td>\n",
       "      <td>-5.463811</td>\n",
       "      <td>7.232058</td>\n",
       "      <td>-1.627859</td>\n",
       "      <td>-0.996755</td>\n",
       "      <td>-4.299833</td>\n",
       "      <td>2.268867</td>\n",
       "      <td>...</td>\n",
       "      <td>0.474414</td>\n",
       "      <td>0.713907</td>\n",
       "      <td>-0.063868</td>\n",
       "      <td>0.167947</td>\n",
       "      <td>-0.449864</td>\n",
       "      <td>0.023702</td>\n",
       "      <td>0.536905</td>\n",
       "      <td>0.485864</td>\n",
       "      <td>-0.042393</td>\n",
       "      <td>1</td>\n",
       "    </tr>\n",
       "  </tbody>\n",
       "</table>\n",
       "<p>5 rows × 31 columns</p>\n",
       "</div>"
      ],
      "text/plain": [
       "        scaled_time  scaled_amount         V1        V2         V3        V4  \\\n",
       "215132     0.649197       9.798225  -2.921944 -0.228062  -5.877289  2.201884   \n",
       "150715     0.108942      -0.148117 -11.397727  7.763953 -18.572307  6.711855   \n",
       "154718     0.211198      -0.307413  -5.603690  5.222193  -7.516830  8.117724   \n",
       "42549     -0.511578       0.925452  -5.314173  4.145944  -8.532522  8.344392   \n",
       "223618     0.690375      -0.293440  -2.006582  3.676577  -5.463811  7.232058   \n",
       "\n",
       "               V5        V6         V7        V8  ...       V20       V21  \\\n",
       "215132  -1.935440  0.631141  -1.245106  1.511348  ...  2.230735  1.441622   \n",
       "150715 -10.174216 -4.395918 -15.893788  2.083013  ...  0.208879  0.339007   \n",
       "154718  -2.756858 -1.574565  -6.330343  2.998419  ...  0.227526  1.242896   \n",
       "42549   -5.718008 -3.043536 -10.989185  3.404129  ...  1.150017  2.331466   \n",
       "223618  -1.627859 -0.996755  -4.299833  2.268867  ...  0.474414  0.713907   \n",
       "\n",
       "             V22       V23       V24       V25       V26       V27       V28  \\\n",
       "215132  0.895528  1.385511 -2.028024  0.509131  0.172643  0.726781  0.234514   \n",
       "150715  1.342923  0.239217  0.534644 -0.174965 -0.500240 -1.722060 -0.574339   \n",
       "154718  0.428408 -0.101184 -0.520199 -0.176938  0.461450 -0.106625 -0.479662   \n",
       "42549   0.862996 -0.614453  0.523648 -0.712593  0.324638  2.245091  0.497321   \n",
       "223618 -0.063868  0.167947 -0.449864  0.023702  0.536905  0.485864 -0.042393   \n",
       "\n",
       "        Class  \n",
       "215132      1  \n",
       "150715      1  \n",
       "154718      1  \n",
       "42549       1  \n",
       "223618      1  \n",
       "\n",
       "[5 rows x 31 columns]"
      ]
     },
     "execution_count": 33,
     "metadata": {},
     "output_type": "execute_result"
    }
   ],
   "source": [
    "upsampled_fraud.head()"
   ]
  },
  {
   "cell_type": "markdown",
   "id": "fb7d6cc9",
   "metadata": {
    "papermill": {
     "duration": 0.026881,
     "end_time": "2023-09-04T01:02:34.065341",
     "exception": false,
     "start_time": "2023-09-04T01:02:34.038460",
     "status": "completed"
    },
    "tags": []
   },
   "source": [
    "Now we got our upsampled fraud dataset lets combine it with not fraud training dataset and the same for upsampled test dataset"
   ]
  },
  {
   "cell_type": "code",
   "execution_count": 34,
   "id": "135ea17a",
   "metadata": {
    "execution": {
     "iopub.execute_input": "2023-09-04T01:02:34.121882Z",
     "iopub.status.busy": "2023-09-04T01:02:34.121141Z",
     "iopub.status.idle": "2023-09-04T01:02:34.152045Z",
     "shell.execute_reply": "2023-09-04T01:02:34.149939Z"
    },
    "papermill": {
     "duration": 0.06234,
     "end_time": "2023-09-04T01:02:34.154809",
     "exception": false,
     "start_time": "2023-09-04T01:02:34.092469",
     "status": "completed"
    },
    "tags": []
   },
   "outputs": [],
   "source": [
    "upsampled = pd.concat([not_fraud_train, upsampled_fraud])\n",
    "#upsampled_test=pd.concat([not_fraud_test,fraud_test])"
   ]
  },
  {
   "cell_type": "code",
   "execution_count": 35,
   "id": "f6ce657b",
   "metadata": {
    "execution": {
     "iopub.execute_input": "2023-09-04T01:02:34.214245Z",
     "iopub.status.busy": "2023-09-04T01:02:34.213898Z",
     "iopub.status.idle": "2023-09-04T01:02:34.236440Z",
     "shell.execute_reply": "2023-09-04T01:02:34.235347Z"
    },
    "papermill": {
     "duration": 0.053935,
     "end_time": "2023-09-04T01:02:34.238465",
     "exception": false,
     "start_time": "2023-09-04T01:02:34.184530",
     "status": "completed"
    },
    "tags": []
   },
   "outputs": [
    {
     "data": {
      "text/html": [
       "<div>\n",
       "<style scoped>\n",
       "    .dataframe tbody tr th:only-of-type {\n",
       "        vertical-align: middle;\n",
       "    }\n",
       "\n",
       "    .dataframe tbody tr th {\n",
       "        vertical-align: top;\n",
       "    }\n",
       "\n",
       "    .dataframe thead th {\n",
       "        text-align: right;\n",
       "    }\n",
       "</style>\n",
       "<table border=\"1\" class=\"dataframe\">\n",
       "  <thead>\n",
       "    <tr style=\"text-align: right;\">\n",
       "      <th></th>\n",
       "      <th>scaled_time</th>\n",
       "      <th>scaled_amount</th>\n",
       "      <th>V1</th>\n",
       "      <th>V2</th>\n",
       "      <th>V3</th>\n",
       "      <th>V4</th>\n",
       "      <th>V5</th>\n",
       "      <th>V6</th>\n",
       "      <th>V7</th>\n",
       "      <th>V8</th>\n",
       "      <th>...</th>\n",
       "      <th>V20</th>\n",
       "      <th>V21</th>\n",
       "      <th>V22</th>\n",
       "      <th>V23</th>\n",
       "      <th>V24</th>\n",
       "      <th>V25</th>\n",
       "      <th>V26</th>\n",
       "      <th>V27</th>\n",
       "      <th>V28</th>\n",
       "      <th>Class</th>\n",
       "    </tr>\n",
       "  </thead>\n",
       "  <tbody>\n",
       "    <tr>\n",
       "      <th>57020</th>\n",
       "      <td>-0.434404</td>\n",
       "      <td>3.633061</td>\n",
       "      <td>0.934579</td>\n",
       "      <td>-2.003423</td>\n",
       "      <td>0.481372</td>\n",
       "      <td>-1.145185</td>\n",
       "      <td>-1.942035</td>\n",
       "      <td>-0.240137</td>\n",
       "      <td>-0.991312</td>\n",
       "      <td>-0.056544</td>\n",
       "      <td>...</td>\n",
       "      <td>0.181464</td>\n",
       "      <td>0.127067</td>\n",
       "      <td>0.189862</td>\n",
       "      <td>-0.205840</td>\n",
       "      <td>0.079787</td>\n",
       "      <td>0.160506</td>\n",
       "      <td>-0.101570</td>\n",
       "      <td>0.015643</td>\n",
       "      <td>0.070298</td>\n",
       "      <td>0</td>\n",
       "    </tr>\n",
       "    <tr>\n",
       "      <th>57021</th>\n",
       "      <td>-0.434404</td>\n",
       "      <td>-0.165165</td>\n",
       "      <td>-6.154789</td>\n",
       "      <td>2.928868</td>\n",
       "      <td>-0.835675</td>\n",
       "      <td>2.210270</td>\n",
       "      <td>-2.444283</td>\n",
       "      <td>0.373182</td>\n",
       "      <td>-3.072278</td>\n",
       "      <td>2.605398</td>\n",
       "      <td>...</td>\n",
       "      <td>-1.888023</td>\n",
       "      <td>0.825350</td>\n",
       "      <td>-0.163207</td>\n",
       "      <td>0.786004</td>\n",
       "      <td>0.013806</td>\n",
       "      <td>0.657940</td>\n",
       "      <td>-0.012926</td>\n",
       "      <td>-1.304513</td>\n",
       "      <td>-0.545071</td>\n",
       "      <td>0</td>\n",
       "    </tr>\n",
       "    <tr>\n",
       "      <th>57022</th>\n",
       "      <td>-0.434404</td>\n",
       "      <td>0.950045</td>\n",
       "      <td>-0.740183</td>\n",
       "      <td>1.631581</td>\n",
       "      <td>-1.188712</td>\n",
       "      <td>0.604324</td>\n",
       "      <td>-0.100936</td>\n",
       "      <td>-0.067405</td>\n",
       "      <td>0.482974</td>\n",
       "      <td>0.795169</td>\n",
       "      <td>...</td>\n",
       "      <td>-0.021242</td>\n",
       "      <td>0.150673</td>\n",
       "      <td>0.415332</td>\n",
       "      <td>0.048315</td>\n",
       "      <td>-0.842631</td>\n",
       "      <td>-0.493429</td>\n",
       "      <td>-0.347446</td>\n",
       "      <td>0.320403</td>\n",
       "      <td>0.121759</td>\n",
       "      <td>0</td>\n",
       "    </tr>\n",
       "    <tr>\n",
       "      <th>57023</th>\n",
       "      <td>-0.434404</td>\n",
       "      <td>6.665269</td>\n",
       "      <td>0.500221</td>\n",
       "      <td>-2.764925</td>\n",
       "      <td>0.446308</td>\n",
       "      <td>-0.966963</td>\n",
       "      <td>-2.326963</td>\n",
       "      <td>-0.078322</td>\n",
       "      <td>-0.866899</td>\n",
       "      <td>-0.031600</td>\n",
       "      <td>...</td>\n",
       "      <td>0.601666</td>\n",
       "      <td>0.155062</td>\n",
       "      <td>-0.265143</td>\n",
       "      <td>-0.296255</td>\n",
       "      <td>0.063021</td>\n",
       "      <td>-0.107776</td>\n",
       "      <td>-0.255781</td>\n",
       "      <td>-0.017438</td>\n",
       "      <td>0.113645</td>\n",
       "      <td>0</td>\n",
       "    </tr>\n",
       "    <tr>\n",
       "      <th>57024</th>\n",
       "      <td>-0.434380</td>\n",
       "      <td>1.253127</td>\n",
       "      <td>-3.740383</td>\n",
       "      <td>-1.841766</td>\n",
       "      <td>-0.388768</td>\n",
       "      <td>-3.307671</td>\n",
       "      <td>-1.172888</td>\n",
       "      <td>0.399554</td>\n",
       "      <td>-0.943201</td>\n",
       "      <td>1.601730</td>\n",
       "      <td>...</td>\n",
       "      <td>-0.723363</td>\n",
       "      <td>-0.044882</td>\n",
       "      <td>0.130936</td>\n",
       "      <td>-0.142799</td>\n",
       "      <td>-0.937011</td>\n",
       "      <td>0.088822</td>\n",
       "      <td>-0.790606</td>\n",
       "      <td>0.017063</td>\n",
       "      <td>-0.474127</td>\n",
       "      <td>0</td>\n",
       "    </tr>\n",
       "  </tbody>\n",
       "</table>\n",
       "<p>5 rows × 31 columns</p>\n",
       "</div>"
      ],
      "text/plain": [
       "       scaled_time  scaled_amount        V1        V2        V3        V4  \\\n",
       "57020    -0.434404       3.633061  0.934579 -2.003423  0.481372 -1.145185   \n",
       "57021    -0.434404      -0.165165 -6.154789  2.928868 -0.835675  2.210270   \n",
       "57022    -0.434404       0.950045 -0.740183  1.631581 -1.188712  0.604324   \n",
       "57023    -0.434404       6.665269  0.500221 -2.764925  0.446308 -0.966963   \n",
       "57024    -0.434380       1.253127 -3.740383 -1.841766 -0.388768 -3.307671   \n",
       "\n",
       "             V5        V6        V7        V8  ...       V20       V21  \\\n",
       "57020 -1.942035 -0.240137 -0.991312 -0.056544  ...  0.181464  0.127067   \n",
       "57021 -2.444283  0.373182 -3.072278  2.605398  ... -1.888023  0.825350   \n",
       "57022 -0.100936 -0.067405  0.482974  0.795169  ... -0.021242  0.150673   \n",
       "57023 -2.326963 -0.078322 -0.866899 -0.031600  ...  0.601666  0.155062   \n",
       "57024 -1.172888  0.399554 -0.943201  1.601730  ... -0.723363 -0.044882   \n",
       "\n",
       "            V22       V23       V24       V25       V26       V27       V28  \\\n",
       "57020  0.189862 -0.205840  0.079787  0.160506 -0.101570  0.015643  0.070298   \n",
       "57021 -0.163207  0.786004  0.013806  0.657940 -0.012926 -1.304513 -0.545071   \n",
       "57022  0.415332  0.048315 -0.842631 -0.493429 -0.347446  0.320403  0.121759   \n",
       "57023 -0.265143 -0.296255  0.063021 -0.107776 -0.255781 -0.017438  0.113645   \n",
       "57024  0.130936 -0.142799 -0.937011  0.088822 -0.790606  0.017063 -0.474127   \n",
       "\n",
       "       Class  \n",
       "57020      0  \n",
       "57021      0  \n",
       "57022      0  \n",
       "57023      0  \n",
       "57024      0  \n",
       "\n",
       "[5 rows x 31 columns]"
      ]
     },
     "execution_count": 35,
     "metadata": {},
     "output_type": "execute_result"
    }
   ],
   "source": [
    "upsampled.head()"
   ]
  },
  {
   "cell_type": "code",
   "execution_count": 36,
   "id": "284bd479",
   "metadata": {
    "execution": {
     "iopub.execute_input": "2023-09-04T01:02:34.298170Z",
     "iopub.status.busy": "2023-09-04T01:02:34.297829Z",
     "iopub.status.idle": "2023-09-04T01:02:34.494158Z",
     "shell.execute_reply": "2023-09-04T01:02:34.493033Z"
    },
    "papermill": {
     "duration": 0.227747,
     "end_time": "2023-09-04T01:02:34.496047",
     "exception": false,
     "start_time": "2023-09-04T01:02:34.268300",
     "status": "completed"
    },
    "tags": []
   },
   "outputs": [
    {
     "name": "stdout",
     "output_type": "stream",
     "text": [
      "0    227452\n",
      "1    227452\n",
      "Name: Class, dtype: int64\n"
     ]
    },
    {
     "data": {
      "image/png": "[encoded data removed]",
      "text/plain": [
       "<Figure size 640x480 with 1 Axes>"
      ]
     },
     "metadata": {},
     "output_type": "display_data"
    }
   ],
   "source": [
    "print(upsampled['Class'].value_counts())\n",
    "labels = [\"legit\", \"Fraud\"]\n",
    "count_classes = upsampled.value_counts(upsampled['Class'], sort= True)\n",
    "count_classes.plot(kind = \"bar\", rot = 0)\n",
    "plt.title(\"Transactions\")\n",
    "plt.ylabel(\"Count\")\n",
    "plt.xticks(range(2), labels)\n",
    "plt.show()"
   ]
  },
  {
   "cell_type": "markdown",
   "id": "873dc2cc",
   "metadata": {
    "papermill": {
     "duration": 0.028601,
     "end_time": "2023-09-04T01:02:34.554341",
     "exception": false,
     "start_time": "2023-09-04T01:02:34.525740",
     "status": "completed"
    },
    "tags": []
   },
   "source": [
    "we see that we got a balanced new dataset"
   ]
  },
  {
   "cell_type": "code",
   "execution_count": 37,
   "id": "8ab5d426",
   "metadata": {
    "execution": {
     "iopub.execute_input": "2023-09-04T01:02:34.616038Z",
     "iopub.status.busy": "2023-09-04T01:02:34.614572Z",
     "iopub.status.idle": "2023-09-04T01:02:34.647406Z",
     "shell.execute_reply": "2023-09-04T01:02:34.645875Z"
    },
    "papermill": {
     "duration": 0.067541,
     "end_time": "2023-09-04T01:02:34.650266",
     "exception": false,
     "start_time": "2023-09-04T01:02:34.582725",
     "status": "completed"
    },
    "tags": []
   },
   "outputs": [],
   "source": [
    "x_train_ov = upsampled.drop(\"Class\" , axis=\"columns\")\n",
    "y_train_ov = upsampled.Class\n",
    "#x_test_ov = upsampled_test.drop(\"Class\" , axis=\"columns\")\n",
    "#y_test_ov = upsampled_test.Class"
   ]
  },
  {
   "cell_type": "code",
   "execution_count": 38,
   "id": "b050fa4f",
   "metadata": {
    "execution": {
     "iopub.execute_input": "2023-09-04T01:02:34.710040Z",
     "iopub.status.busy": "2023-09-04T01:02:34.709625Z",
     "iopub.status.idle": "2023-09-04T01:02:38.654677Z",
     "shell.execute_reply": "2023-09-04T01:02:38.653939Z"
    },
    "papermill": {
     "duration": 3.977535,
     "end_time": "2023-09-04T01:02:38.656697",
     "exception": false,
     "start_time": "2023-09-04T01:02:34.679162",
     "status": "completed"
    },
    "tags": []
   },
   "outputs": [
    {
     "name": "stdout",
     "output_type": "stream",
     "text": [
      "accuracy =  0.9634844282153014\n"
     ]
    }
   ],
   "source": [
    "from sklearn.linear_model import LogisticRegression\n",
    "lorg = LogisticRegression(max_iter=10000)\n",
    "lorg.fit(x_train_ov , y_train_ov)\n",
    "y_pred_upsampled_model = lorg.predict(x_test)\n",
    "print(\"accuracy = \",lorg.score(x_test , y_test))"
   ]
  },
  {
   "cell_type": "code",
   "execution_count": 39,
   "id": "f9af5aca",
   "metadata": {
    "execution": {
     "iopub.execute_input": "2023-09-04T01:02:38.729967Z",
     "iopub.status.busy": "2023-09-04T01:02:38.728909Z",
     "iopub.status.idle": "2023-09-04T01:02:38.798333Z",
     "shell.execute_reply": "2023-09-04T01:02:38.797407Z"
    },
    "papermill": {
     "duration": 0.108747,
     "end_time": "2023-09-04T01:02:38.801118",
     "exception": false,
     "start_time": "2023-09-04T01:02:38.692371",
     "status": "completed"
    },
    "tags": []
   },
   "outputs": [
    {
     "name": "stdout",
     "output_type": "stream",
     "text": [
      "              precision    recall  f1-score   support\n",
      "\n",
      "           0       1.00      0.96      0.98     56868\n",
      "           1       0.04      0.90      0.08        94\n",
      "\n",
      "    accuracy                           0.96     56962\n",
      "   macro avg       0.52      0.93      0.53     56962\n",
      "weighted avg       1.00      0.96      0.98     56962\n",
      "\n"
     ]
    }
   ],
   "source": [
    "print(classification_report(y_test,y_pred_upsampled_model))"
   ]
  },
  {
   "cell_type": "markdown",
   "id": "044eaf8a",
   "metadata": {
    "papermill": {
     "duration": 0.027964,
     "end_time": "2023-09-04T01:02:38.858227",
     "exception": false,
     "start_time": "2023-09-04T01:02:38.830263",
     "status": "completed"
    },
    "tags": []
   },
   "source": [
    "we see that we got a good accuracy (96.34%) and it is similar to the accuracy of random undersampling"
   ]
  },
  {
   "cell_type": "markdown",
   "id": "f90e8afd",
   "metadata": {
    "papermill": {
     "duration": 0.029436,
     "end_time": "2023-09-04T01:02:38.917556",
     "exception": false,
     "start_time": "2023-09-04T01:02:38.888120",
     "status": "completed"
    },
    "tags": []
   },
   "source": [
    "now let's see the confusion matrix"
   ]
  },
  {
   "cell_type": "code",
   "execution_count": 40,
   "id": "d2211125",
   "metadata": {
    "execution": {
     "iopub.execute_input": "2023-09-04T01:02:38.975767Z",
     "iopub.status.busy": "2023-09-04T01:02:38.975420Z",
     "iopub.status.idle": "2023-09-04T01:02:39.191163Z",
     "shell.execute_reply": "2023-09-04T01:02:39.189903Z"
    },
    "papermill": {
     "duration": 0.247107,
     "end_time": "2023-09-04T01:02:39.193019",
     "exception": false,
     "start_time": "2023-09-04T01:02:38.945912",
     "status": "completed"
    },
    "tags": []
   },
   "outputs": [
    {
     "data": {
      "text/plain": [
       "Text(0.5, 23.52222222222222, 'Predicted Label')"
      ]
     },
     "execution_count": 40,
     "metadata": {},
     "output_type": "execute_result"
    },
    {
     "data": {
      "image/png": "[encoded data removed]",
      "text/plain": [
       "<Figure size 640x480 with 2 Axes>"
      ]
     },
     "metadata": {},
     "output_type": "display_data"
    }
   ],
   "source": [
    "nn_cnf_matrix = metrics.confusion_matrix(y_test, y_pred_upsampled_model)\n",
    "sns.heatmap(pd.DataFrame(nn_cnf_matrix), annot=True, cmap=\"YlGnBu\", fmt='g')\n",
    "plt.ylabel('Actual Label')\n",
    "plt.xlabel('Predicted Label')"
   ]
  },
  {
   "cell_type": "markdown",
   "id": "6c93a5f1",
   "metadata": {
    "papermill": {
     "duration": 0.028152,
     "end_time": "2023-09-04T01:02:39.250154",
     "exception": false,
     "start_time": "2023-09-04T01:02:39.222002",
     "status": "completed"
    },
    "tags": []
   },
   "source": [
    "oversampling's confusion matrix is relatively similar to undersampling's confusion matrix but a litle decrease of the true positives and the true negatives decrease the accuracy a little bit.\n",
    "To sum up random oversamling gives similar results as random undersampling."
   ]
  },
  {
   "cell_type": "markdown",
   "id": "cd5341be",
   "metadata": {
    "papermill": {
     "duration": 0.028434,
     "end_time": "2023-09-04T01:02:39.307581",
     "exception": false,
     "start_time": "2023-09-04T01:02:39.279147",
     "status": "completed"
    },
    "tags": []
   },
   "source": [
    "## 3. SMOTE (Synthetic Minority Over-sampling Technique) "
   ]
  },
  {
   "cell_type": "markdown",
   "id": "9dcb7e0b",
   "metadata": {
    "papermill": {
     "duration": 0.029997,
     "end_time": "2023-09-04T01:02:39.366411",
     "exception": false,
     "start_time": "2023-09-04T01:02:39.336414",
     "status": "completed"
    },
    "tags": []
   },
   "source": [
    "**Objective:** SMOTE is used to balance class distribution in datasets with imbalanced classes.\n",
    "\n",
    "**Process:** It generates synthetic instances for the minority class using existing instances and their nearest neighbors.\n",
    "\n",
    "**Algorithm Steps:**\n",
    "\n",
    "   1.     Identify instances of the minority class.\n",
    "   2.     Select nearest neighbors for each instance.\n",
    "   3.     Create synthetic instances along line segments between instance and neighbors.\n",
    "   4.     Add synthetic instances to the dataset.\n",
    "    \n",
    "**Benefits:**\n",
    "\n",
    "   *     Improved model performance on the minority class.\n",
    "   *     Helps prevent bias towards the majority class.\n",
    "   *     Preserves original data patterns while creating synthetic instances.\n",
    "\n",
    "**Considerations:**\n",
    "\n",
    "   *     Careful selection of neighbors is important.\n",
    "   *     Can potentially lead to overfitting if not used judiciously.\n",
    "   *     Implementation: SMOTE is available in Python libraries like imbalanced-learn and Scikit-learn.\n",
    "\n",
    "**Usage:** It's effective when combined with other techniques like cross-validation and thorough model evaluation."
   ]
  },
  {
   "cell_type": "code",
   "execution_count": 41,
   "id": "48fc3f93",
   "metadata": {
    "execution": {
     "iopub.execute_input": "2023-09-04T01:02:39.426813Z",
     "iopub.status.busy": "2023-09-04T01:02:39.426470Z",
     "iopub.status.idle": "2023-09-04T01:02:39.950720Z",
     "shell.execute_reply": "2023-09-04T01:02:39.948743Z"
    },
    "papermill": {
     "duration": 0.557795,
     "end_time": "2023-09-04T01:02:39.953342",
     "exception": false,
     "start_time": "2023-09-04T01:02:39.395547",
     "status": "completed"
    },
    "tags": []
   },
   "outputs": [],
   "source": [
    "from imblearn.over_sampling import SMOTE"
   ]
  },
  {
   "cell_type": "code",
   "execution_count": 42,
   "id": "18aec931",
   "metadata": {
    "execution": {
     "iopub.execute_input": "2023-09-04T01:02:40.013487Z",
     "iopub.status.busy": "2023-09-04T01:02:40.013160Z",
     "iopub.status.idle": "2023-09-04T01:02:40.466874Z",
     "shell.execute_reply": "2023-09-04T01:02:40.465379Z"
    },
    "papermill": {
     "duration": 0.486406,
     "end_time": "2023-09-04T01:02:40.469102",
     "exception": false,
     "start_time": "2023-09-04T01:02:39.982696",
     "status": "completed"
    },
    "tags": []
   },
   "outputs": [],
   "source": [
    "sm = SMOTE(random_state=31)\n",
    "x_train_smote, y_train_smote = sm.fit_resample(x_train, y_train)"
   ]
  },
  {
   "cell_type": "markdown",
   "id": "49e1c4a3",
   "metadata": {
    "papermill": {
     "duration": 0.028282,
     "end_time": "2023-09-04T01:02:40.526011",
     "exception": false,
     "start_time": "2023-09-04T01:02:40.497729",
     "status": "completed"
    },
    "tags": []
   },
   "source": [
    "let's check if dataset is now balanced"
   ]
  },
  {
   "cell_type": "code",
   "execution_count": 43,
   "id": "dcac65f1",
   "metadata": {
    "execution": {
     "iopub.execute_input": "2023-09-04T01:02:40.585269Z",
     "iopub.status.busy": "2023-09-04T01:02:40.584874Z",
     "iopub.status.idle": "2023-09-04T01:02:40.595949Z",
     "shell.execute_reply": "2023-09-04T01:02:40.594561Z"
    },
    "papermill": {
     "duration": 0.043052,
     "end_time": "2023-09-04T01:02:40.597935",
     "exception": false,
     "start_time": "2023-09-04T01:02:40.554883",
     "status": "completed"
    },
    "tags": []
   },
   "outputs": [
    {
     "name": "stdout",
     "output_type": "stream",
     "text": [
      "0    227447\n",
      "1    227447\n",
      "Name: Class, dtype: int64\n"
     ]
    }
   ],
   "source": [
    "print(y_train_smote.value_counts())"
   ]
  },
  {
   "cell_type": "code",
   "execution_count": 44,
   "id": "e6efb0b7",
   "metadata": {
    "execution": {
     "iopub.execute_input": "2023-09-04T01:02:40.661603Z",
     "iopub.status.busy": "2023-09-04T01:02:40.661116Z",
     "iopub.status.idle": "2023-09-04T01:02:40.828737Z",
     "shell.execute_reply": "2023-09-04T01:02:40.827959Z"
    },
    "papermill": {
     "duration": 0.203519,
     "end_time": "2023-09-04T01:02:40.830737",
     "exception": false,
     "start_time": "2023-09-04T01:02:40.627218",
     "status": "completed"
    },
    "tags": []
   },
   "outputs": [
    {
     "data": {
      "text/plain": [
       "<Axes: xlabel='Class', ylabel='count'>"
      ]
     },
     "execution_count": 44,
     "metadata": {},
     "output_type": "execute_result"
    },
    {
     "data": {
      "image/png": "[encoded data removed]",
      "text/plain": [
       "<Figure size 640x480 with 1 Axes>"
      ]
     },
     "metadata": {},
     "output_type": "display_data"
    }
   ],
   "source": [
    "sns.countplot(x=y_train_smote,palette='Paired')"
   ]
  },
  {
   "cell_type": "markdown",
   "id": "08eb2d84",
   "metadata": {
    "papermill": {
     "duration": 0.028802,
     "end_time": "2023-09-04T01:02:40.896206",
     "exception": false,
     "start_time": "2023-09-04T01:02:40.867404",
     "status": "completed"
    },
    "tags": []
   },
   "source": [
    "Now let's fit the model and see its performance"
   ]
  },
  {
   "cell_type": "code",
   "execution_count": 45,
   "id": "d93a9d72",
   "metadata": {
    "execution": {
     "iopub.execute_input": "2023-09-04T01:02:40.956417Z",
     "iopub.status.busy": "2023-09-04T01:02:40.955767Z",
     "iopub.status.idle": "2023-09-04T01:02:45.479293Z",
     "shell.execute_reply": "2023-09-04T01:02:45.478541Z"
    },
    "papermill": {
     "duration": 4.555608,
     "end_time": "2023-09-04T01:02:45.481358",
     "exception": false,
     "start_time": "2023-09-04T01:02:40.925750",
     "status": "completed"
    },
    "tags": []
   },
   "outputs": [
    {
     "name": "stdout",
     "output_type": "stream",
     "text": [
      "accuracy =  0.974474210877427\n"
     ]
    }
   ],
   "source": [
    "from sklearn.linear_model import LogisticRegression\n",
    "lorg = LogisticRegression(max_iter = 10000)\n",
    "lorg.fit(x_train_smote , y_train_smote)\n",
    "y_pred_smote = lorg.predict(x_test)\n",
    "print(\"accuracy = \",lorg.score(x_test , y_test))"
   ]
  },
  {
   "cell_type": "code",
   "execution_count": 46,
   "id": "5cada158",
   "metadata": {
    "execution": {
     "iopub.execute_input": "2023-09-04T01:02:45.560748Z",
     "iopub.status.busy": "2023-09-04T01:02:45.559850Z",
     "iopub.status.idle": "2023-09-04T01:02:45.621965Z",
     "shell.execute_reply": "2023-09-04T01:02:45.620879Z"
    },
    "papermill": {
     "duration": 0.102455,
     "end_time": "2023-09-04T01:02:45.623845",
     "exception": false,
     "start_time": "2023-09-04T01:02:45.521390",
     "status": "completed"
    },
    "tags": []
   },
   "outputs": [
    {
     "name": "stdout",
     "output_type": "stream",
     "text": [
      "              precision    recall  f1-score   support\n",
      "\n",
      "           0       1.00      0.97      0.99     56868\n",
      "           1       0.06      0.91      0.11        94\n",
      "\n",
      "    accuracy                           0.97     56962\n",
      "   macro avg       0.53      0.94      0.55     56962\n",
      "weighted avg       1.00      0.97      0.99     56962\n",
      "\n"
     ]
    }
   ],
   "source": [
    "print(classification_report(y_test,y_pred_smote))"
   ]
  },
  {
   "cell_type": "markdown",
   "id": "9e8deb92",
   "metadata": {
    "papermill": {
     "duration": 0.034012,
     "end_time": "2023-09-04T01:02:45.688744",
     "exception": false,
     "start_time": "2023-09-04T01:02:45.654732",
     "status": "completed"
    },
    "tags": []
   },
   "source": [
    "Now let's check the confusion matrix"
   ]
  },
  {
   "cell_type": "code",
   "execution_count": 47,
   "id": "ac69053d",
   "metadata": {
    "execution": {
     "iopub.execute_input": "2023-09-04T01:02:45.751923Z",
     "iopub.status.busy": "2023-09-04T01:02:45.751065Z",
     "iopub.status.idle": "2023-09-04T01:02:45.967955Z",
     "shell.execute_reply": "2023-09-04T01:02:45.966809Z"
    },
    "papermill": {
     "duration": 0.250152,
     "end_time": "2023-09-04T01:02:45.970075",
     "exception": false,
     "start_time": "2023-09-04T01:02:45.719923",
     "status": "completed"
    },
    "tags": []
   },
   "outputs": [
    {
     "data": {
      "text/plain": [
       "Text(0.5, 23.52222222222222, 'Predicted Label')"
      ]
     },
     "execution_count": 47,
     "metadata": {},
     "output_type": "execute_result"
    },
    {
     "data": {
      "image/png": "[encoded data removed]",
      "text/plain": [
       "<Figure size 640x480 with 2 Axes>"
      ]
     },
     "metadata": {},
     "output_type": "display_data"
    }
   ],
   "source": [
    "nn_cnf_matrix = metrics.confusion_matrix(y_test, y_pred_smote)\n",
    "sns.heatmap(pd.DataFrame(nn_cnf_matrix), annot=True, cmap=\"YlGnBu\", fmt='g')\n",
    "plt.ylabel('Actual Label')\n",
    "plt.xlabel('Predicted Label')"
   ]
  },
  {
   "cell_type": "markdown",
   "id": "d454ec27",
   "metadata": {
    "papermill": {
     "duration": 0.029118,
     "end_time": "2023-09-04T01:02:46.028704",
     "exception": false,
     "start_time": "2023-09-04T01:02:45.999586",
     "status": "completed"
    },
    "tags": []
   },
   "source": [
    "We can see that using the SMOTE method makes it much better at figuring out when something is actually not there (negative instances) compared to other methods we tried. The SMOTE method gave us only 8 cases where it wrongly thought something was there when it wasn't. This shows that SMOTE helps the model do a better job at telling apart the things we're interested in from the things we're not."
   ]
  },
  {
   "cell_type": "markdown",
   "id": "4ed42ccf",
   "metadata": {
    "papermill": {
     "duration": 0.028817,
     "end_time": "2023-09-04T01:02:46.086259",
     "exception": false,
     "start_time": "2023-09-04T01:02:46.057442",
     "status": "completed"
    },
    "tags": []
   },
   "source": [
    "## 4. ADASYN (Adaptive Synthetic Sampling)"
   ]
  },
  {
   "cell_type": "markdown",
   "id": "8c24ddfc",
   "metadata": {
    "papermill": {
     "duration": 0.028591,
     "end_time": "2023-09-04T01:02:46.143804",
     "exception": false,
     "start_time": "2023-09-04T01:02:46.115213",
     "status": "completed"
    },
    "tags": []
   },
   "source": [
    "ADASYN is also used to address class imbalance in datasets by generating synthetic instances for the minority class, thereby improving the model's ability to recognize and classify the minority class instances accurately.\n",
    "but the main differences between ADASYN and SMOTE are:\n",
    "\n",
    "**1. Nearest Neighbors:**\n",
    "\n",
    "* SMOTE uses a fixed number of neighbors for all instances.\n",
    "* ADASYN adapts the number of neighbors based on instance density.\n",
    "\n",
    "**2. Sample Generation:**\n",
    "\n",
    "* SMOTE generates synthetic samples uniformly between instances and their neighbors.\n",
    "* ADASYN places more emphasis on generating samples in challenging regions of the feature space.\n",
    "\n",
    "**3. Density Consideration:**\n",
    "\n",
    "* SMOTE does not explicitly consider instance density.\n",
    "* ADASYN considers instance density to focus on difficult-to-classify regions.\n",
    "\n",
    "**4. Adaptiveness:**\n",
    "\n",
    "* SMOTE treats all instances equally when generating samples.\n",
    "* ADASYN adapts sampling to improve classification in areas with severe class imbalance.\n",
    "\n",
    "In essence, ADASYN introduces adaptiveness by dynamically adjusting nearest neighbors and emphasizing regions with difficult classification due to class imbalance, potentially leading to more effective performance improvement for imbalanced datasets."
   ]
  },
  {
   "cell_type": "code",
   "execution_count": 48,
   "id": "f739dd46",
   "metadata": {
    "execution": {
     "iopub.execute_input": "2023-09-04T01:02:46.205371Z",
     "iopub.status.busy": "2023-09-04T01:02:46.204717Z",
     "iopub.status.idle": "2023-09-04T01:02:46.209160Z",
     "shell.execute_reply": "2023-09-04T01:02:46.208104Z"
    },
    "papermill": {
     "duration": 0.037515,
     "end_time": "2023-09-04T01:02:46.211340",
     "exception": false,
     "start_time": "2023-09-04T01:02:46.173825",
     "status": "completed"
    },
    "tags": []
   },
   "outputs": [],
   "source": [
    "from imblearn.over_sampling import ADASYN"
   ]
  },
  {
   "cell_type": "markdown",
   "id": "7473acac",
   "metadata": {
    "papermill": {
     "duration": 0.031236,
     "end_time": "2023-09-04T01:02:46.272655",
     "exception": false,
     "start_time": "2023-09-04T01:02:46.241419",
     "status": "completed"
    },
    "tags": []
   },
   "source": [
    "let's resample the dataset"
   ]
  },
  {
   "cell_type": "code",
   "execution_count": 49,
   "id": "282f1771",
   "metadata": {
    "execution": {
     "iopub.execute_input": "2023-09-04T01:02:46.336600Z",
     "iopub.status.busy": "2023-09-04T01:02:46.336061Z",
     "iopub.status.idle": "2023-09-04T01:02:46.748658Z",
     "shell.execute_reply": "2023-09-04T01:02:46.747575Z"
    },
    "papermill": {
     "duration": 0.447888,
     "end_time": "2023-09-04T01:02:46.751243",
     "exception": false,
     "start_time": "2023-09-04T01:02:46.303355",
     "status": "completed"
    },
    "tags": []
   },
   "outputs": [],
   "source": [
    "adasyn = ADASYN(random_state=42)\n",
    "x_train_adasyn, y_train_adasyn = adasyn.fit_resample(x_train, y_train)"
   ]
  },
  {
   "cell_type": "markdown",
   "id": "441a046e",
   "metadata": {
    "papermill": {
     "duration": 0.029577,
     "end_time": "2023-09-04T01:02:46.811370",
     "exception": false,
     "start_time": "2023-09-04T01:02:46.781793",
     "status": "completed"
    },
    "tags": []
   },
   "source": [
    "Now let's check if our dataset has become balanced"
   ]
  },
  {
   "cell_type": "code",
   "execution_count": 50,
   "id": "8a2d1fc6",
   "metadata": {
    "execution": {
     "iopub.execute_input": "2023-09-04T01:02:46.871423Z",
     "iopub.status.busy": "2023-09-04T01:02:46.870939Z",
     "iopub.status.idle": "2023-09-04T01:02:46.880699Z",
     "shell.execute_reply": "2023-09-04T01:02:46.879855Z"
    },
    "papermill": {
     "duration": 0.04184,
     "end_time": "2023-09-04T01:02:46.882298",
     "exception": false,
     "start_time": "2023-09-04T01:02:46.840458",
     "status": "completed"
    },
    "tags": []
   },
   "outputs": [
    {
     "name": "stdout",
     "output_type": "stream",
     "text": [
      "0    227447\n",
      "1    227429\n",
      "Name: Class, dtype: int64\n"
     ]
    }
   ],
   "source": [
    "print(y_train_adasyn.value_counts())"
   ]
  },
  {
   "cell_type": "code",
   "execution_count": 51,
   "id": "4b240868",
   "metadata": {
    "execution": {
     "iopub.execute_input": "2023-09-04T01:02:46.944263Z",
     "iopub.status.busy": "2023-09-04T01:02:46.943760Z",
     "iopub.status.idle": "2023-09-04T01:02:47.109724Z",
     "shell.execute_reply": "2023-09-04T01:02:47.108757Z"
    },
    "papermill": {
     "duration": 0.200589,
     "end_time": "2023-09-04T01:02:47.111812",
     "exception": false,
     "start_time": "2023-09-04T01:02:46.911223",
     "status": "completed"
    },
    "tags": []
   },
   "outputs": [
    {
     "data": {
      "text/plain": [
       "<Axes: xlabel='Class', ylabel='count'>"
      ]
     },
     "execution_count": 51,
     "metadata": {},
     "output_type": "execute_result"
    },
    {
     "data": {
      "image/png": "[encoded data removed]",
      "text/plain": [
       "<Figure size 640x480 with 1 Axes>"
      ]
     },
     "metadata": {},
     "output_type": "display_data"
    }
   ],
   "source": [
    "sns.countplot(x=y_train_adasyn,palette='Paired')"
   ]
  },
  {
   "cell_type": "markdown",
   "id": "c654db3a",
   "metadata": {
    "papermill": {
     "duration": 0.030524,
     "end_time": "2023-09-04T01:02:47.176467",
     "exception": false,
     "start_time": "2023-09-04T01:02:47.145943",
     "status": "completed"
    },
    "tags": []
   },
   "source": [
    "Now it's time to built the model"
   ]
  },
  {
   "cell_type": "code",
   "execution_count": 52,
   "id": "8bb86a38",
   "metadata": {
    "execution": {
     "iopub.execute_input": "2023-09-04T01:02:47.237464Z",
     "iopub.status.busy": "2023-09-04T01:02:47.237099Z",
     "iopub.status.idle": "2023-09-04T01:02:51.492314Z",
     "shell.execute_reply": "2023-09-04T01:02:51.491664Z"
    },
    "papermill": {
     "duration": 4.288277,
     "end_time": "2023-09-04T01:02:51.494501",
     "exception": false,
     "start_time": "2023-09-04T01:02:47.206224",
     "status": "completed"
    },
    "tags": []
   },
   "outputs": [
    {
     "name": "stdout",
     "output_type": "stream",
     "text": [
      "accuracy =  0.9172430743302552\n"
     ]
    }
   ],
   "source": [
    "from sklearn.linear_model import LogisticRegression\n",
    "lorg = LogisticRegression(max_iter = 10000)\n",
    "lorg.fit(x_train_adasyn , y_train_adasyn)\n",
    "y_pred_adasyn = lorg.predict(x_test)\n",
    "print(\"accuracy = \",lorg.score(x_test , y_test))"
   ]
  },
  {
   "cell_type": "markdown",
   "id": "72f68b8a",
   "metadata": {
    "papermill": {
     "duration": 0.03934,
     "end_time": "2023-09-04T01:02:51.572663",
     "exception": false,
     "start_time": "2023-09-04T01:02:51.533323",
     "status": "completed"
    },
    "tags": []
   },
   "source": [
    "let's check the performance"
   ]
  },
  {
   "cell_type": "code",
   "execution_count": 53,
   "id": "ef84495a",
   "metadata": {
    "execution": {
     "iopub.execute_input": "2023-09-04T01:02:51.643719Z",
     "iopub.status.busy": "2023-09-04T01:02:51.643316Z",
     "iopub.status.idle": "2023-09-04T01:02:51.705347Z",
     "shell.execute_reply": "2023-09-04T01:02:51.703905Z"
    },
    "papermill": {
     "duration": 0.097228,
     "end_time": "2023-09-04T01:02:51.707571",
     "exception": false,
     "start_time": "2023-09-04T01:02:51.610343",
     "status": "completed"
    },
    "tags": []
   },
   "outputs": [
    {
     "name": "stdout",
     "output_type": "stream",
     "text": [
      "              precision    recall  f1-score   support\n",
      "\n",
      "           0       1.00      0.92      0.96     56868\n",
      "           1       0.02      0.90      0.03        94\n",
      "\n",
      "    accuracy                           0.92     56962\n",
      "   macro avg       0.51      0.91      0.50     56962\n",
      "weighted avg       1.00      0.92      0.96     56962\n",
      "\n"
     ]
    }
   ],
   "source": [
    "print(classification_report(y_test,y_pred_adasyn))"
   ]
  },
  {
   "cell_type": "markdown",
   "id": "3979c369",
   "metadata": {
    "papermill": {
     "duration": 0.038579,
     "end_time": "2023-09-04T01:02:51.777827",
     "exception": false,
     "start_time": "2023-09-04T01:02:51.739248",
     "status": "completed"
    },
    "tags": []
   },
   "source": [
    "the confusion matrix"
   ]
  },
  {
   "cell_type": "code",
   "execution_count": 54,
   "id": "894b7102",
   "metadata": {
    "execution": {
     "iopub.execute_input": "2023-09-04T01:02:51.848080Z",
     "iopub.status.busy": "2023-09-04T01:02:51.847697Z",
     "iopub.status.idle": "2023-09-04T01:02:52.089907Z",
     "shell.execute_reply": "2023-09-04T01:02:52.088922Z"
    },
    "papermill": {
     "duration": 0.281217,
     "end_time": "2023-09-04T01:02:52.092525",
     "exception": false,
     "start_time": "2023-09-04T01:02:51.811308",
     "status": "completed"
    },
    "tags": []
   },
   "outputs": [
    {
     "data": {
      "text/plain": [
       "Text(0.5, 23.52222222222222, 'Predicted Label')"
      ]
     },
     "execution_count": 54,
     "metadata": {},
     "output_type": "execute_result"
    },
    {
     "data": {
      "image/png": "[encoded data removed]",
      "text/plain": [
       "<Figure size 640x480 with 2 Axes>"
      ]
     },
     "metadata": {},
     "output_type": "display_data"
    }
   ],
   "source": [
    "nn_cnf_matrix = metrics.confusion_matrix(y_test, y_pred_adasyn)\n",
    "sns.heatmap(pd.DataFrame(nn_cnf_matrix), annot=True, cmap=\"YlGnBu\", fmt='g')\n",
    "plt.ylabel('Actual Label')\n",
    "plt.xlabel('Predicted Label')"
   ]
  },
  {
   "cell_type": "markdown",
   "id": "8d5fbfb0",
   "metadata": {
    "papermill": {
     "duration": 0.03059,
     "end_time": "2023-09-04T01:02:52.157184",
     "exception": false,
     "start_time": "2023-09-04T01:02:52.126594",
     "status": "completed"
    },
    "tags": []
   },
   "source": [
    "We see that ADASYN does not give us better results as SMOTE, Upsampled and Undersampled data, because it increase the number of false positives and false negatives (4705 false negatives !)\n",
    "As a conlusion we dont really see good results from ADASYN and that's why we will continue without using it below."
   ]
  },
  {
   "cell_type": "markdown",
   "id": "1e03020a",
   "metadata": {
    "papermill": {
     "duration": 0.030777,
     "end_time": "2023-09-04T01:02:52.218742",
     "exception": false,
     "start_time": "2023-09-04T01:02:52.187965",
     "status": "completed"
    },
    "tags": []
   },
   "source": [
    "# Balancing Act: Tackling Imbalanced Datasets with Smart Models"
   ]
  },
  {
   "cell_type": "markdown",
   "id": "8725719d",
   "metadata": {
    "papermill": {
     "duration": 0.030515,
     "end_time": "2023-09-04T01:02:52.280273",
     "exception": false,
     "start_time": "2023-09-04T01:02:52.249758",
     "status": "completed"
    },
    "tags": []
   },
   "source": [
    "In the following section, we explore various classification models that offer effective ways to tackle the challenges presented by imbalanced datasets. "
   ]
  },
  {
   "cell_type": "markdown",
   "id": "dc38e17e",
   "metadata": {
    "papermill": {
     "duration": 0.031289,
     "end_time": "2023-09-04T01:02:52.343657",
     "exception": false,
     "start_time": "2023-09-04T01:02:52.312368",
     "status": "completed"
    },
    "tags": []
   },
   "source": [
    "Handling imbalanced data, where one class is way less common than the other, is a usual challenge in machine learning. To tackle this problem, we'll explore various models known for their skill in managing such situations more effectively. With the help of these models, we intend to make our predictions more accurate and dependable, particularly when we have unequal numbers of different classes."
   ]
  },
  {
   "cell_type": "markdown",
   "id": "f90b2fd2",
   "metadata": {
    "papermill": {
     "duration": 0.034233,
     "end_time": "2023-09-04T01:02:52.412915",
     "exception": false,
     "start_time": "2023-09-04T01:02:52.378682",
     "status": "completed"
    },
    "tags": []
   },
   "source": [
    "**let's import our models**"
   ]
  },
  {
   "cell_type": "code",
   "execution_count": 55,
   "id": "6b4d92dc",
   "metadata": {
    "execution": {
     "iopub.execute_input": "2023-09-04T01:02:52.479079Z",
     "iopub.status.busy": "2023-09-04T01:02:52.478401Z",
     "iopub.status.idle": "2023-09-04T01:02:52.687004Z",
     "shell.execute_reply": "2023-09-04T01:02:52.685414Z"
    },
    "papermill": {
     "duration": 0.243359,
     "end_time": "2023-09-04T01:02:52.689665",
     "exception": false,
     "start_time": "2023-09-04T01:02:52.446306",
     "status": "completed"
    },
    "tags": []
   },
   "outputs": [],
   "source": [
    "from sklearn.ensemble import RandomForestClassifier\n",
    "\n",
    "import xgboost as xgb\n",
    "\n",
    "from sklearn.svm import SVC\n",
    "from sklearn.pipeline import make_pipeline"
   ]
  },
  {
   "cell_type": "markdown",
   "id": "4eed3023",
   "metadata": {
    "papermill": {
     "duration": 0.030007,
     "end_time": "2023-09-04T01:02:52.750749",
     "exception": false,
     "start_time": "2023-09-04T01:02:52.720742",
     "status": "completed"
    },
    "tags": []
   },
   "source": [
    "### Random Forest Classifier:\n"
   ]
  },
  {
   "cell_type": "markdown",
   "id": "5a83d79f",
   "metadata": {
    "papermill": {
     "duration": 0.03306,
     "end_time": "2023-09-04T01:02:52.814838",
     "exception": false,
     "start_time": "2023-09-04T01:02:52.781778",
     "status": "completed"
    },
    "tags": []
   },
   "source": [
    "Random Forest is an ensemble method that combines multiple decision trees to make more accurate predictions. Each tree is trained on a subset of the data and produces its own prediction. The final prediction is determined by aggregating the predictions of all individual trees, often using majority voting for classification tasks."
   ]
  },
  {
   "cell_type": "code",
   "execution_count": 56,
   "id": "3e738187",
   "metadata": {
    "execution": {
     "iopub.execute_input": "2023-09-04T01:02:52.877083Z",
     "iopub.status.busy": "2023-09-04T01:02:52.876710Z",
     "iopub.status.idle": "2023-09-04T01:07:24.537227Z",
     "shell.execute_reply": "2023-09-04T01:07:24.536011Z"
    },
    "papermill": {
     "duration": 271.694095,
     "end_time": "2023-09-04T01:07:24.539327",
     "exception": false,
     "start_time": "2023-09-04T01:02:52.845232",
     "status": "completed"
    },
    "tags": []
   },
   "outputs": [],
   "source": [
    "# Create and train the Random Forest model\n",
    "random_forest_model = RandomForestClassifier(random_state=42)\n",
    "random_forest_model.fit(x_train, y_train)\n",
    "\n",
    "# Make predictions on the testing set\n",
    "y_pred_rf = random_forest_model.predict(x_test)"
   ]
  },
  {
   "cell_type": "markdown",
   "id": "60fdb91f",
   "metadata": {
    "papermill": {
     "duration": 0.030595,
     "end_time": "2023-09-04T01:07:24.600479",
     "exception": false,
     "start_time": "2023-09-04T01:07:24.569884",
     "status": "completed"
    },
    "tags": []
   },
   "source": [
    "### Gradient Boosting Classifier (XGBoost):"
   ]
  },
  {
   "cell_type": "markdown",
   "id": "a1af5d3e",
   "metadata": {
    "papermill": {
     "duration": 0.030141,
     "end_time": "2023-09-04T01:07:24.660880",
     "exception": false,
     "start_time": "2023-09-04T01:07:24.630739",
     "status": "completed"
    },
    "tags": []
   },
   "source": [
    "XGBoost is a powerful gradient boosting algorithm known for its performance and efficiency. It builds multiple decision trees sequentially, each trying to correct the errors of the previous one. The final prediction is a weighted sum of the predictions from all trees."
   ]
  },
  {
   "cell_type": "code",
   "execution_count": 57,
   "id": "be6fbaae",
   "metadata": {
    "execution": {
     "iopub.execute_input": "2023-09-04T01:07:24.722951Z",
     "iopub.status.busy": "2023-09-04T01:07:24.722287Z",
     "iopub.status.idle": "2023-09-04T01:08:05.638348Z",
     "shell.execute_reply": "2023-09-04T01:08:05.637603Z"
    },
    "papermill": {
     "duration": 40.949761,
     "end_time": "2023-09-04T01:08:05.640538",
     "exception": false,
     "start_time": "2023-09-04T01:07:24.690777",
     "status": "completed"
    },
    "tags": []
   },
   "outputs": [],
   "source": [
    "# Create and train the XGBoost model\n",
    "xgb_model = xgb.XGBClassifier(random_state=42)\n",
    "xgb_model.fit(x_train, y_train)\n",
    "\n",
    "# Make predictions on the testing set\n",
    "y_pred_xgb = xgb_model.predict(x_test)"
   ]
  },
  {
   "cell_type": "markdown",
   "id": "07d344d4",
   "metadata": {
    "papermill": {
     "duration": 0.030516,
     "end_time": "2023-09-04T01:08:05.701472",
     "exception": false,
     "start_time": "2023-09-04T01:08:05.670956",
     "status": "completed"
    },
    "tags": []
   },
   "source": [
    "### Support Vector Machine (SVM):\n"
   ]
  },
  {
   "cell_type": "markdown",
   "id": "90fd3aef",
   "metadata": {
    "papermill": {
     "duration": 0.030335,
     "end_time": "2023-09-04T01:08:05.763321",
     "exception": false,
     "start_time": "2023-09-04T01:08:05.732986",
     "status": "completed"
    },
    "tags": []
   },
   "source": [
    "SVM is a versatile algorithm used for both classification and regression tasks. It finds a hyperplane that best separates classes in the feature space by maximizing the margin between the classes. SVM can also use kernel functions to transform data into higher-dimensional spaces for better separation."
   ]
  },
  {
   "cell_type": "code",
   "execution_count": 58,
   "id": "6c40bbbc",
   "metadata": {
    "execution": {
     "iopub.execute_input": "2023-09-04T01:08:05.826131Z",
     "iopub.status.busy": "2023-09-04T01:08:05.825298Z",
     "iopub.status.idle": "2023-09-04T01:11:07.531693Z",
     "shell.execute_reply": "2023-09-04T01:11:07.530412Z"
    },
    "papermill": {
     "duration": 181.740168,
     "end_time": "2023-09-04T01:11:07.534184",
     "exception": false,
     "start_time": "2023-09-04T01:08:05.794016",
     "status": "completed"
    },
    "tags": []
   },
   "outputs": [],
   "source": [
    "# Create and train the SVM model with a pipeline for standardization\n",
    "svm_model = make_pipeline(StandardScaler(), SVC(random_state=42))\n",
    "svm_model.fit(x_train, y_train)\n",
    "\n",
    "# Make predictions on the testing set\n",
    "y_pred_svm = svm_model.predict(x_test)"
   ]
  },
  {
   "cell_type": "markdown",
   "id": "a146fdb8",
   "metadata": {
    "papermill": {
     "duration": 0.030138,
     "end_time": "2023-09-04T01:11:07.595473",
     "exception": false,
     "start_time": "2023-09-04T01:11:07.565335",
     "status": "completed"
    },
    "tags": []
   },
   "source": [
    "### Ploting Confusion Matrices and Classification reports"
   ]
  },
  {
   "cell_type": "code",
   "execution_count": 59,
   "id": "fe14b414",
   "metadata": {
    "execution": {
     "iopub.execute_input": "2023-09-04T01:11:07.657964Z",
     "iopub.status.busy": "2023-09-04T01:11:07.657652Z",
     "iopub.status.idle": "2023-09-04T01:11:08.788900Z",
     "shell.execute_reply": "2023-09-04T01:11:08.787523Z"
    },
    "papermill": {
     "duration": 1.164974,
     "end_time": "2023-09-04T01:11:08.791148",
     "exception": false,
     "start_time": "2023-09-04T01:11:07.626174",
     "status": "completed"
    },
    "tags": []
   },
   "outputs": [
    {
     "data": {
      "image/png": "[encoded data removed]",
      "text/plain": [
       "<Figure size 1800x1000 with 9 Axes>"
      ]
     },
     "metadata": {},
     "output_type": "display_data"
    }
   ],
   "source": [
    "model_names = ['Random Forest', 'XGBoost', 'SVM']\n",
    "predictions = [y_pred_rf, y_pred_xgb, y_pred_svm]\n",
    "\n",
    "# Create subplots for each model's confusion matrix\n",
    "plt.figure(figsize=(18, 10))  \n",
    "\n",
    "for i, model_name in enumerate(model_names):\n",
    "    confusion_matrix = metrics.confusion_matrix(y_test, predictions[i])\n",
    "    \n",
    "    plt.subplot(2, 3, i + 1)\n",
    "    sns.heatmap(confusion_matrix, annot=True, cmap='YlGnBu', fmt='d')\n",
    "    plt.title(f'{model_name} Confusion Matrix')\n",
    "    plt.ylabel('Actual Values')\n",
    "    plt.xlabel('Predicted Values')\n",
    "    \n",
    "    plt.subplot(2, 3, i + 4)\n",
    "    classification_rep = metrics.classification_report(y_test, predictions[i])\n",
    "    plt.text(0.5, 0.5, classification_rep, fontsize=12, ha='center', va='center')\n",
    "    plt.axis('off')\n",
    "\n",
    "plt.tight_layout()\n",
    "plt.show()"
   ]
  },
  {
   "cell_type": "markdown",
   "id": "de265555",
   "metadata": {
    "papermill": {
     "duration": 0.031263,
     "end_time": "2023-09-04T01:11:08.854274",
     "exception": false,
     "start_time": "2023-09-04T01:11:08.823011",
     "status": "completed"
    },
    "tags": []
   },
   "source": [
    "## Let's see the results on SMOTE"
   ]
  },
  {
   "cell_type": "markdown",
   "id": "1aac4f5f",
   "metadata": {
    "papermill": {
     "duration": 0.032998,
     "end_time": "2023-09-04T01:11:08.919277",
     "exception": false,
     "start_time": "2023-09-04T01:11:08.886279",
     "status": "completed"
    },
    "tags": []
   },
   "source": [
    "### Random Forest Classifier:"
   ]
  },
  {
   "cell_type": "code",
   "execution_count": 60,
   "id": "66c12561",
   "metadata": {
    "execution": {
     "iopub.execute_input": "2023-09-04T01:11:08.983833Z",
     "iopub.status.busy": "2023-09-04T01:11:08.982903Z",
     "iopub.status.idle": "2023-09-04T01:19:35.832543Z",
     "shell.execute_reply": "2023-09-04T01:19:35.831038Z"
    },
    "papermill": {
     "duration": 506.883801,
     "end_time": "2023-09-04T01:19:35.834728",
     "exception": false,
     "start_time": "2023-09-04T01:11:08.950927",
     "status": "completed"
    },
    "tags": []
   },
   "outputs": [],
   "source": [
    "# Create and train the Random Forest model\n",
    "random_forest_model = RandomForestClassifier(random_state=42)\n",
    "random_forest_model.fit(x_train_smote, y_train_smote)\n",
    "\n",
    "# Make predictions on the testing set\n",
    "y_pred_rf = random_forest_model.predict(x_test)"
   ]
  },
  {
   "cell_type": "markdown",
   "id": "7834c677",
   "metadata": {
    "papermill": {
     "duration": 0.031187,
     "end_time": "2023-09-04T01:19:35.958200",
     "exception": false,
     "start_time": "2023-09-04T01:19:35.927013",
     "status": "completed"
    },
    "tags": []
   },
   "source": [
    "### Gradient Boosting Classifier (XGBoost):"
   ]
  },
  {
   "cell_type": "code",
   "execution_count": 61,
   "id": "b9c5fead",
   "metadata": {
    "execution": {
     "iopub.execute_input": "2023-09-04T01:19:36.021256Z",
     "iopub.status.busy": "2023-09-04T01:19:36.020650Z",
     "iopub.status.idle": "2023-09-04T01:21:34.586462Z",
     "shell.execute_reply": "2023-09-04T01:21:34.585739Z"
    },
    "papermill": {
     "duration": 118.599978,
     "end_time": "2023-09-04T01:21:34.588708",
     "exception": false,
     "start_time": "2023-09-04T01:19:35.988730",
     "status": "completed"
    },
    "tags": []
   },
   "outputs": [],
   "source": [
    "# Create and train the XGBoost model\n",
    "xgb_model = xgb.XGBClassifier(random_state=42)\n",
    "xgb_model.fit(x_train_smote, y_train_smote)\n",
    "\n",
    "# Make predictions on the testing set\n",
    "y_pred_xgb = xgb_model.predict(x_test)"
   ]
  },
  {
   "cell_type": "markdown",
   "id": "984b3176",
   "metadata": {
    "papermill": {
     "duration": 0.031957,
     "end_time": "2023-09-04T01:21:34.653242",
     "exception": false,
     "start_time": "2023-09-04T01:21:34.621285",
     "status": "completed"
    },
    "tags": []
   },
   "source": [
    "### Support Vector Machine (SVM):"
   ]
  },
  {
   "cell_type": "code",
   "execution_count": 62,
   "id": "23a70f07",
   "metadata": {
    "execution": {
     "iopub.execute_input": "2023-09-04T01:21:34.722153Z",
     "iopub.status.busy": "2023-09-04T01:21:34.721786Z",
     "iopub.status.idle": "2023-09-04T01:42:17.554927Z",
     "shell.execute_reply": "2023-09-04T01:42:17.553534Z"
    },
    "papermill": {
     "duration": 1242.869461,
     "end_time": "2023-09-04T01:42:17.557448",
     "exception": false,
     "start_time": "2023-09-04T01:21:34.687987",
     "status": "completed"
    },
    "tags": []
   },
   "outputs": [],
   "source": [
    "# Create and train the SVM model with a pipeline for standardization\n",
    "svm_model = make_pipeline(StandardScaler(), SVC(random_state=42))\n",
    "svm_model.fit(x_train_smote, y_train_smote)\n",
    "\n",
    "# Make predictions on the testing set\n",
    "y_pred_svm = svm_model.predict(x_test)"
   ]
  },
  {
   "cell_type": "markdown",
   "id": "9ab112a0",
   "metadata": {
    "papermill": {
     "duration": 0.033033,
     "end_time": "2023-09-04T01:42:17.624020",
     "exception": false,
     "start_time": "2023-09-04T01:42:17.590987",
     "status": "completed"
    },
    "tags": []
   },
   "source": [
    "### Ploting Confusion Matrices and Classification reports"
   ]
  },
  {
   "cell_type": "code",
   "execution_count": 63,
   "id": "9cfc8240",
   "metadata": {
    "execution": {
     "iopub.execute_input": "2023-09-04T01:42:17.689741Z",
     "iopub.status.busy": "2023-09-04T01:42:17.689399Z",
     "iopub.status.idle": "2023-09-04T01:42:18.711825Z",
     "shell.execute_reply": "2023-09-04T01:42:18.710687Z"
    },
    "papermill": {
     "duration": 1.057781,
     "end_time": "2023-09-04T01:42:18.714445",
     "exception": false,
     "start_time": "2023-09-04T01:42:17.656664",
     "status": "completed"
    },
    "tags": []
   },
   "outputs": [
    {
     "data": {
      "image/png": "[encoded data removed]",
      "text/plain": [
       "<Figure size 1800x1000 with 9 Axes>"
      ]
     },
     "metadata": {},
     "output_type": "display_data"
    }
   ],
   "source": [
    "model_names = ['Random Forest', 'XGBoost', 'SVM']\n",
    "predictions = [y_pred_rf, y_pred_xgb, y_pred_svm]\n",
    "\n",
    "# Create subplots for each model's confusion matrix\n",
    "plt.figure(figsize=(18, 10))  \n",
    "\n",
    "for i, model_name in enumerate(model_names):\n",
    "    confusion_matrix = metrics.confusion_matrix(y_test, predictions[i])\n",
    "    \n",
    "    plt.subplot(2, 3, i + 1)\n",
    "    sns.heatmap(confusion_matrix, annot=True, cmap='YlGnBu', fmt='d')\n",
    "    plt.title(f'{model_name} Confusion Matrix')\n",
    "    plt.ylabel('Actual Values')\n",
    "    plt.xlabel('Predicted Values')\n",
    "    \n",
    "    plt.subplot(2, 3, i + 4)\n",
    "    classification_rep = metrics.classification_report(y_test, predictions[i])\n",
    "    plt.text(0.5, 0.5, classification_rep, fontsize=12, ha='center', va='center')\n",
    "    plt.axis('off')\n",
    "\n",
    "plt.tight_layout()\n",
    "plt.show()"
   ]
  },
  {
   "cell_type": "markdown",
   "id": "66ae8c51",
   "metadata": {
    "papermill": {
     "duration": 0.033784,
     "end_time": "2023-09-04T01:42:18.781793",
     "exception": false,
     "start_time": "2023-09-04T01:42:18.748009",
     "status": "completed"
    },
    "tags": []
   },
   "source": [
    "## Let's see the results on Oversampled dataset"
   ]
  },
  {
   "cell_type": "markdown",
   "id": "774ad69a",
   "metadata": {
    "papermill": {
     "duration": 0.035005,
     "end_time": "2023-09-04T01:42:18.849893",
     "exception": false,
     "start_time": "2023-09-04T01:42:18.814888",
     "status": "completed"
    },
    "tags": []
   },
   "source": [
    "### Random Forest Classifier:"
   ]
  },
  {
   "cell_type": "code",
   "execution_count": 64,
   "id": "2dd10e7b",
   "metadata": {
    "execution": {
     "iopub.execute_input": "2023-09-04T01:42:18.937471Z",
     "iopub.status.busy": "2023-09-04T01:42:18.935657Z",
     "iopub.status.idle": "2023-09-04T01:46:34.623462Z",
     "shell.execute_reply": "2023-09-04T01:46:34.621977Z"
    },
    "papermill": {
     "duration": 255.733379,
     "end_time": "2023-09-04T01:46:34.625875",
     "exception": false,
     "start_time": "2023-09-04T01:42:18.892496",
     "status": "completed"
    },
    "tags": []
   },
   "outputs": [],
   "source": [
    "# Create and train the Random Forest model\n",
    "random_forest_model = RandomForestClassifier(random_state=42)\n",
    "random_forest_model.fit(x_train_ov, y_train_ov)\n",
    "\n",
    "# Make predictions on the testing set\n",
    "y_pred_rf = random_forest_model.predict(x_test)"
   ]
  },
  {
   "cell_type": "markdown",
   "id": "b9d50fe9",
   "metadata": {
    "papermill": {
     "duration": 0.03244,
     "end_time": "2023-09-04T01:46:34.691856",
     "exception": false,
     "start_time": "2023-09-04T01:46:34.659416",
     "status": "completed"
    },
    "tags": []
   },
   "source": [
    "### Gradient Boosting Classifier (XGBoost):"
   ]
  },
  {
   "cell_type": "code",
   "execution_count": 65,
   "id": "42e7d589",
   "metadata": {
    "execution": {
     "iopub.execute_input": "2023-09-04T01:46:34.759389Z",
     "iopub.status.busy": "2023-09-04T01:46:34.758152Z",
     "iopub.status.idle": "2023-09-04T01:47:45.017227Z",
     "shell.execute_reply": "2023-09-04T01:47:45.015586Z"
    },
    "papermill": {
     "duration": 70.296911,
     "end_time": "2023-09-04T01:47:45.020886",
     "exception": false,
     "start_time": "2023-09-04T01:46:34.723975",
     "status": "completed"
    },
    "tags": []
   },
   "outputs": [],
   "source": [
    "# Create and train the XGBoost model\n",
    "xgb_model = xgb.XGBClassifier(random_state=42)\n",
    "xgb_model.fit(x_train_ov, y_train_ov)\n",
    "\n",
    "# Make predictions on the testing set\n",
    "y_pred_xgb = xgb_model.predict(x_test)"
   ]
  },
  {
   "cell_type": "markdown",
   "id": "cf2c7b11",
   "metadata": {
    "papermill": {
     "duration": 0.037371,
     "end_time": "2023-09-04T01:47:45.093357",
     "exception": false,
     "start_time": "2023-09-04T01:47:45.055986",
     "status": "completed"
    },
    "tags": []
   },
   "source": [
    "### Support Vector Machine (SVM):"
   ]
  },
  {
   "cell_type": "code",
   "execution_count": 66,
   "id": "3f261792",
   "metadata": {
    "execution": {
     "iopub.execute_input": "2023-09-04T01:47:45.163989Z",
     "iopub.status.busy": "2023-09-04T01:47:45.163553Z",
     "iopub.status.idle": "2023-09-04T02:03:25.202331Z",
     "shell.execute_reply": "2023-09-04T02:03:25.201438Z"
    },
    "papermill": {
     "duration": 940.07747,
     "end_time": "2023-09-04T02:03:25.204652",
     "exception": false,
     "start_time": "2023-09-04T01:47:45.127182",
     "status": "completed"
    },
    "tags": []
   },
   "outputs": [],
   "source": [
    "# Create and train the SVM model with a pipeline for standardization\n",
    "svm_model = make_pipeline(StandardScaler(), SVC(random_state=42))\n",
    "svm_model.fit(x_train_ov, y_train_ov)\n",
    "\n",
    "# Make predictions on the testing set\n",
    "y_pred_svm = svm_model.predict(x_test)"
   ]
  },
  {
   "cell_type": "markdown",
   "id": "f42dce0d",
   "metadata": {
    "papermill": {
     "duration": 0.037355,
     "end_time": "2023-09-04T02:03:25.277140",
     "exception": false,
     "start_time": "2023-09-04T02:03:25.239785",
     "status": "completed"
    },
    "tags": []
   },
   "source": [
    "### Ploting Confusion Matrices and Classification reports"
   ]
  },
  {
   "cell_type": "code",
   "execution_count": 67,
   "id": "b515af56",
   "metadata": {
    "execution": {
     "iopub.execute_input": "2023-09-04T02:03:25.351813Z",
     "iopub.status.busy": "2023-09-04T02:03:25.351386Z",
     "iopub.status.idle": "2023-09-04T02:03:26.670268Z",
     "shell.execute_reply": "2023-09-04T02:03:26.669124Z"
    },
    "papermill": {
     "duration": 1.357557,
     "end_time": "2023-09-04T02:03:26.672854",
     "exception": false,
     "start_time": "2023-09-04T02:03:25.315297",
     "status": "completed"
    },
    "tags": []
   },
   "outputs": [
    {
     "data": {
      "image/png": "[encoded data removed]",
      "text/plain": [
       "<Figure size 1800x1000 with 9 Axes>"
      ]
     },
     "metadata": {},
     "output_type": "display_data"
    }
   ],
   "source": [
    "model_names = ['Random Forest', 'XGBoost', 'SVM']\n",
    "predictions = [y_pred_rf, y_pred_xgb, y_pred_svm]\n",
    "\n",
    "# Create subplots for each model's confusion matrix\n",
    "plt.figure(figsize=(18, 10))  \n",
    "\n",
    "for i, model_name in enumerate(model_names):\n",
    "    confusion_matrix = metrics.confusion_matrix(y_test, predictions[i])\n",
    "    \n",
    "    plt.subplot(2, 3, i + 1)\n",
    "    sns.heatmap(confusion_matrix, annot=True, cmap='YlGnBu', fmt='d')\n",
    "    plt.title(f'{model_name} Confusion Matrix')\n",
    "    plt.ylabel('Actual Values')\n",
    "    plt.xlabel('Predicted Values')\n",
    "    \n",
    "    plt.subplot(2, 3, i + 4)\n",
    "    classification_rep = metrics.classification_report(y_test, predictions[i])\n",
    "    plt.text(0.5, 0.5, classification_rep, fontsize=12, ha='center', va='center')\n",
    "    plt.axis('off')\n",
    "\n",
    "plt.tight_layout()\n",
    "plt.show()"
   ]
  },
  {
   "cell_type": "markdown",
   "id": "26b70140",
   "metadata": {
    "papermill": {
     "duration": 0.040189,
     "end_time": "2023-09-04T02:03:26.750885",
     "exception": false,
     "start_time": "2023-09-04T02:03:26.710696",
     "status": "completed"
    },
    "tags": []
   },
   "source": [
    "## Now it's time to see the results on Undersampled dataset"
   ]
  },
  {
   "cell_type": "markdown",
   "id": "4a6752cf",
   "metadata": {
    "papermill": {
     "duration": 0.035238,
     "end_time": "2023-09-04T02:03:26.821087",
     "exception": false,
     "start_time": "2023-09-04T02:03:26.785849",
     "status": "completed"
    },
    "tags": []
   },
   "source": [
    "### Random Forest Classifier:"
   ]
  },
  {
   "cell_type": "code",
   "execution_count": 68,
   "id": "de6011f5",
   "metadata": {
    "execution": {
     "iopub.execute_input": "2023-09-04T02:03:26.893889Z",
     "iopub.status.busy": "2023-09-04T02:03:26.893273Z",
     "iopub.status.idle": "2023-09-04T02:03:27.699572Z",
     "shell.execute_reply": "2023-09-04T02:03:27.698630Z"
    },
    "papermill": {
     "duration": 0.846181,
     "end_time": "2023-09-04T02:03:27.702013",
     "exception": false,
     "start_time": "2023-09-04T02:03:26.855832",
     "status": "completed"
    },
    "tags": []
   },
   "outputs": [],
   "source": [
    "# Create and train the Random Forest model\n",
    "random_forest_model = RandomForestClassifier(random_state=42)\n",
    "random_forest_model.fit(x_train_undersampled, y_train_undersampled)\n",
    "\n",
    "# Make predictions on the testing set\n",
    "y_pred_rf = random_forest_model.predict(x_test)"
   ]
  },
  {
   "cell_type": "markdown",
   "id": "9f18fd0e",
   "metadata": {
    "papermill": {
     "duration": 0.035067,
     "end_time": "2023-09-04T02:03:27.771009",
     "exception": false,
     "start_time": "2023-09-04T02:03:27.735942",
     "status": "completed"
    },
    "tags": []
   },
   "source": [
    "### Gradient Boosting Classifier (XGBoost):"
   ]
  },
  {
   "cell_type": "code",
   "execution_count": 69,
   "id": "f3ce5056",
   "metadata": {
    "execution": {
     "iopub.execute_input": "2023-09-04T02:03:27.843152Z",
     "iopub.status.busy": "2023-09-04T02:03:27.842748Z",
     "iopub.status.idle": "2023-09-04T02:03:27.989646Z",
     "shell.execute_reply": "2023-09-04T02:03:27.988834Z"
    },
    "papermill": {
     "duration": 0.185733,
     "end_time": "2023-09-04T02:03:27.992226",
     "exception": false,
     "start_time": "2023-09-04T02:03:27.806493",
     "status": "completed"
    },
    "tags": []
   },
   "outputs": [],
   "source": [
    "# Create and train the XGBoost model\n",
    "xgb_model = xgb.XGBClassifier(random_state=42)\n",
    "xgb_model.fit(x_train_undersampled, y_train_undersampled)\n",
    "\n",
    "# Make predictions on the testing set\n",
    "y_pred_xgb = xgb_model.predict(x_test)"
   ]
  },
  {
   "cell_type": "markdown",
   "id": "35573fd3",
   "metadata": {
    "papermill": {
     "duration": 0.03581,
     "end_time": "2023-09-04T02:03:28.064702",
     "exception": false,
     "start_time": "2023-09-04T02:03:28.028892",
     "status": "completed"
    },
    "tags": []
   },
   "source": [
    "### Support Vector Machine (SVM):"
   ]
  },
  {
   "cell_type": "code",
   "execution_count": 70,
   "id": "6bdbcebd",
   "metadata": {
    "execution": {
     "iopub.execute_input": "2023-09-04T02:03:28.139183Z",
     "iopub.status.busy": "2023-09-04T02:03:28.138205Z",
     "iopub.status.idle": "2023-09-04T02:24:15.815038Z",
     "shell.execute_reply": "2023-09-04T02:24:15.814238Z"
    },
    "papermill": {
     "duration": 1247.716448,
     "end_time": "2023-09-04T02:24:15.817299",
     "exception": false,
     "start_time": "2023-09-04T02:03:28.100851",
     "status": "completed"
    },
    "tags": []
   },
   "outputs": [],
   "source": [
    "# Create and train the SVM model with a pipeline for standardization\n",
    "svm_model = make_pipeline(StandardScaler(), SVC(random_state=42))\n",
    "svm_model.fit(x_train_smote, y_train_smote)\n",
    "\n",
    "# Make predictions on the testing set\n",
    "y_pred_svm = svm_model.predict(x_test)"
   ]
  },
  {
   "cell_type": "markdown",
   "id": "cf7a803f",
   "metadata": {
    "papermill": {
     "duration": 0.032884,
     "end_time": "2023-09-04T02:24:15.885089",
     "exception": false,
     "start_time": "2023-09-04T02:24:15.852205",
     "status": "completed"
    },
    "tags": []
   },
   "source": [
    "### Ploting Confusion Matrices and Classification reports"
   ]
  },
  {
   "cell_type": "code",
   "execution_count": 71,
   "id": "737cd630",
   "metadata": {
    "execution": {
     "iopub.execute_input": "2023-09-04T02:24:15.952859Z",
     "iopub.status.busy": "2023-09-04T02:24:15.952513Z",
     "iopub.status.idle": "2023-09-04T02:24:17.189635Z",
     "shell.execute_reply": "2023-09-04T02:24:17.188569Z"
    },
    "papermill": {
     "duration": 1.273479,
     "end_time": "2023-09-04T02:24:17.191782",
     "exception": false,
     "start_time": "2023-09-04T02:24:15.918303",
     "status": "completed"
    },
    "tags": []
   },
   "outputs": [
    {
     "data": {
      "image/png": "[encoded data removed]",
      "text/plain": [
       "<Figure size 1800x1000 with 9 Axes>"
      ]
     },
     "metadata": {},
     "output_type": "display_data"
    }
   ],
   "source": [
    "model_names = ['Random Forest', 'XGBoost', 'SVM']\n",
    "predictions = [y_pred_rf, y_pred_xgb, y_pred_svm]\n",
    "\n",
    "# Create subplots for each model's confusion matrix\n",
    "plt.figure(figsize=(18, 10))  \n",
    "\n",
    "for i, model_name in enumerate(model_names):\n",
    "    confusion_matrix = metrics.confusion_matrix(y_test, predictions[i])\n",
    "    \n",
    "    plt.subplot(2, 3, i + 1)\n",
    "    sns.heatmap(confusion_matrix, annot=True, cmap='YlGnBu', fmt='d')\n",
    "    plt.title(f'{model_name} Confusion Matrix')\n",
    "    plt.ylabel('Actual Values')\n",
    "    plt.xlabel('Predicted Values')\n",
    "    \n",
    "    plt.subplot(2, 3, i + 4)\n",
    "    classification_rep = metrics.classification_report(y_test, predictions[i])\n",
    "    plt.text(0.5, 0.5, classification_rep, fontsize=12, ha='center', va='center')\n",
    "    plt.axis('off')\n",
    "\n",
    "plt.tight_layout()\n",
    "plt.show()"
   ]
  },
  {
   "cell_type": "markdown",
   "id": "02023757",
   "metadata": {
    "papermill": {
     "duration": 0.034383,
     "end_time": "2023-09-04T02:24:17.260405",
     "exception": false,
     "start_time": "2023-09-04T02:24:17.226022",
     "status": "completed"
    },
    "tags": []
   },
   "source": [
    "## Conclusion"
   ]
  },
  {
   "cell_type": "markdown",
   "id": "4935978b",
   "metadata": {
    "papermill": {
     "duration": 0.035168,
     "end_time": "2023-09-04T02:24:17.332740",
     "exception": false,
     "start_time": "2023-09-04T02:24:17.297572",
     "status": "completed"
    },
    "tags": []
   },
   "source": [
    "In summary, scaling features can lead to improved results when applying both undersampling and oversampling techniques (including Random Undersampling, Random Oversampling, and SMOTE). These techniques can enhance accuracy, precision, and recall in fraud transaction prediction. Moreover, employing advanced models such as Random Forest Classifier and XGBoost, in combination with data balancing techniques, yields optimal outcomes for predicting fraud transactions."
   ]
  }
 ],
 "kernelspec": {
  "display_name": "Python 3",
  "language": "python",
  "name": "python3"
 },
 "language_info": {
  "codemirror_mode": {
   "name": "ipython",
   "version": 3
  },
  "file_extension": ".py",
  "mimetype": "text/x-python",
  "name": "python",
  "nbconvert_exporter": "python",
  "pygments_lexer": "ipython3",
  "version": "3.6.4"
 },
 "metadata": {
  "kernelspec": {
   "display_name": "Python 3",
   "language": "python",
   "name": "python3"
  },
  "language_info": {
   "codemirror_mode": {
    "name": "ipython",
    "version": 3
   },
   "file_extension": ".py",
   "mimetype": "text/x-python",
   "name": "python",
   "nbconvert_exporter": "python",
   "pygments_lexer": "ipython3",
   "version": "3.10.12"
  },
  "papermill": {
   "default_parameters": {},
   "duration": 4937.463359,
   "end_time": "2023-09-04T02:24:18.499099",
   "environment_variables": {},
   "exception": null,
   "input_path": "__notebook__.ipynb",
   "output_path": "__notebook__.ipynb",
   "parameters": {},
   "start_time": "2023-09-04T01:02:01.035740",
   "version": "2.4.0"
  }
 },
 "nbformat": 4,
 "nbformat_minor": 5
}
